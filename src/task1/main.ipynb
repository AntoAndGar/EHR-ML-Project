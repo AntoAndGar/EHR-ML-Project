{
 "cells": [
  {
   "cell_type": "markdown",
   "metadata": {},
   "source": [
    "# Task 1"
   ]
  },
  {
   "cell_type": "code",
   "execution_count": 1,
   "metadata": {},
   "outputs": [],
   "source": [
    "import pandas as pd\n",
    "from datetime import date\n",
    "import concurrent.futures as futures\n",
    "import multiprocessing\n",
    "\n",
    "file_names = [\n",
    "    \"anagraficapazientiattivi\",\n",
    "    \"diagnosi\",\n",
    "    \"esamilaboratorioparametri\",\n",
    "    \"esamilaboratorioparametricalcolati\",\n",
    "    \"esamistrumentali\",\n",
    "    \"prescrizionidiabetefarmaci\",\n",
    "    \"prescrizionidiabetenonfarmaci\",\n",
    "    \"prescrizioninondiabete\",\n",
    "]\n",
    "\n",
    "\n",
    "def read_csv(filename):\n",
    "    return pd.read_csv(filename, header=0, index_col=0)"
   ]
  },
  {
   "cell_type": "code",
   "execution_count": 2,
   "metadata": {},
   "outputs": [],
   "source": [
    "# read all the dataset concurrently and store them in a dictionary with the name of the file as key\n",
    "with futures.ThreadPoolExecutor(max_workers=multiprocessing.cpu_count()) as executor:\n",
    "    df_list = dict()\n",
    "    for name in file_names:\n",
    "        df_list[str(name)] = executor.submit(read_csv, f\"../../sample/{name}.csv\")"
   ]
  },
  {
   "cell_type": "markdown",
   "metadata": {},
   "source": [
    "## Task 1.1\n",
    "Select events of interest – we want only patients with at least one cardiovascular event in their trajectories."
   ]
  },
  {
   "cell_type": "code",
   "execution_count": 3,
   "metadata": {},
   "outputs": [],
   "source": [
    "df_diagnosi = df_list[\"diagnosi\"].result()\n",
    "\n",
    "\"\"\"\n",
    "AMD047: Myocardial infarction\n",
    "AMD048: Coronary angioplasty\n",
    "AMD049: Coronary bypass\n",
    "AMD071: Ictus\n",
    "AMD081: Lower limb angioplasty\n",
    "AMD082: Peripheral By-pass Lower Limbs\n",
    "AMD208: Revascularization of intracranial and neck vessels\n",
    "AMD303: Ischemic stroke\n",
    "\"\"\"\n",
    "AMD_OF_CARDIOVASCULAR_EVENT = [\n",
    "    \"AMD047\",\n",
    "    \"AMD048\",\n",
    "    \"AMD049\",\n",
    "    \"AMD071\",\n",
    "    \"AMD081\",\n",
    "    \"AMD082\",\n",
    "    \"AMD208\",\n",
    "    \"AMD303\",\n",
    "]"
   ]
  },
  {
   "cell_type": "code",
   "execution_count": 4,
   "metadata": {},
   "outputs": [
    {
     "name": "stdout",
     "output_type": "stream",
     "text": [
      "numero record presenti in diagnosi:  4427337\n",
      "numero pazienti unici presenti in diagnosi:  226303\n"
     ]
    }
   ],
   "source": [
    "print(\n",
    "    \"numero record presenti in diagnosi: \", len(df_diagnosi[[\"idana\", \"idcentro\"]])\n",
    ")  # 4427337\n",
    "print(\n",
    "    \"numero pazienti presenti in diagnosi prima del punto 1: \",\n",
    "    len(df_diagnosi[[\"idana\", \"idcentro\"]].drop_duplicates()),\n",
    ")  # 226303"
   ]
  },
  {
   "cell_type": "code",
   "execution_count": 5,
   "metadata": {},
   "outputs": [],
   "source": [
    "# anagrafica table\n",
    "df_anagrafica_attivi = df_list[\"anagraficapazientiattivi\"].result()\n",
    "# pd.read_csv(\"sample/anagraficapazientiattivi.csv\", header=0, index_col=False)\n",
    "\n",
    "df_anagrafica_attivi[\"annodiagnosidiabete\"] = pd.to_datetime(\n",
    "    df_anagrafica_attivi[\"annodiagnosidiabete\"], format=\"%Y\"\n",
    ")\n",
    "df_anagrafica_attivi[\"annonascita\"] = pd.to_datetime(\n",
    "    df_anagrafica_attivi[\"annonascita\"], format=\"%Y\"\n",
    ")\n",
    "df_anagrafica_attivi[\"annoprimoaccesso\"] = pd.to_datetime(\n",
    "    df_anagrafica_attivi[\"annoprimoaccesso\"], format=\"%Y\"\n",
    ")\n",
    "df_anagrafica_attivi[\"annodecesso\"] = pd.to_datetime(\n",
    "    df_anagrafica_attivi[\"annodecesso\"], format=\"%Y\"\n",
    ")"
   ]
  },
  {
   "cell_type": "code",
   "execution_count": 6,
   "metadata": {},
   "outputs": [
    {
     "name": "stdout",
     "output_type": "stream",
     "text": [
      "numero record presenti in anagrafica:  250000\n",
      "numero pazienti unici in anagrafica:  250000\n",
      "numero pazienti in anagrafica presenti in diagnosi: 226303\n"
     ]
    }
   ],
   "source": [
    "print(\n",
    "    \"numero record presenti in anagrafica: \",\n",
    "    len(df_anagrafica_attivi[[\"idana\", \"idcentro\"]]),\n",
    ")  # 250000\n",
    "print(\n",
    "    \"numero pazienti presenti in anagrafica prima del punto 1: \",\n",
    "    len(df_anagrafica_attivi[[\"idana\", \"idcentro\"]].drop_duplicates()),\n",
    ")  # 250000\n",
    "\n",
    "print(\n",
    "    \"numero pazienti in anagrafica presenti in diagnosi:\",\n",
    "    len(\n",
    "        df_anagrafica_attivi[[\"idana\", \"idcentro\"]]\n",
    "        .drop_duplicates()\n",
    "        .merge(\n",
    "            df_diagnosi[[\"idana\", \"idcentro\"]].drop_duplicates(),\n",
    "            how=\"inner\",\n",
    "            on=[\"idana\", \"idcentro\"],\n",
    "        )\n",
    "    ),\n",
    ")  # 226303"
   ]
  },
  {
   "cell_type": "code",
   "execution_count": 7,
   "metadata": {},
   "outputs": [],
   "source": [
    "# Diagnosi relative a problemi cardiaci\n",
    "df_diagnosi_problemi_cuore = df_diagnosi[\n",
    "    df_diagnosi[\"codiceamd\"].isin(AMD_OF_CARDIOVASCULAR_EVENT)\n",
    "]"
   ]
  },
  {
   "cell_type": "code",
   "execution_count": 8,
   "metadata": {},
   "outputs": [
    {
     "name": "stdout",
     "output_type": "stream",
     "text": [
      "numero pazienti presenti in diagnosi con codice amd in lista (con problemi al cuore):  50000\n"
     ]
    }
   ],
   "source": [
    "print(\n",
    "    \"numero pazienti presenti in diagnosi con codice amd in lista (con problemi al cuore): \",\n",
    "    len(df_diagnosi_problemi_cuore[[\"idana\", \"idcentro\"]].drop_duplicates()),\n",
    ")  # 50000"
   ]
  },
  {
   "cell_type": "markdown",
   "metadata": {},
   "source": [
    "The following cell is part of the 1.6 point"
   ]
  },
  {
   "cell_type": "code",
   "execution_count": 9,
   "metadata": {},
   "outputs": [
    {
     "name": "stdout",
     "output_type": "stream",
     "text": [
      "numero pazienti presenti in diagnosi con codice amd in lista (con problemi al cuore) e con data presente:  49997\n",
      "numero pazienti presenti in anagrafica con problemi al cuore e data presente:  49997\n"
     ]
    }
   ],
   "source": [
    "# punto 6 fatto direttamente qui per alleggerire le computazioni\n",
    "print(\n",
    "    \"numero pazienti presenti in diagnosi con codice amd in lista (con problemi al cuore) e con data presente: \",\n",
    "    len(\n",
    "        df_diagnosi_problemi_cuore[~df_diagnosi_problemi_cuore[\"data\"].isna()][\n",
    "            [\"idana\", \"idcentro\"]\n",
    "        ].drop_duplicates()\n",
    "    ),\n",
    ")\n",
    "\n",
    "# anagrafica pazienti con problemi al cuore, e relativa diagnosi\n",
    "aa_prob_cuore = df_anagrafica_attivi.merge(\n",
    "    df_diagnosi_problemi_cuore[~df_diagnosi_problemi_cuore[\"data\"].isna()],\n",
    "    on=[\"idcentro\", \"idana\"],\n",
    "    how=\"inner\",\n",
    ")\n",
    "\n",
    "print(\n",
    "    \"numero pazienti presenti in anagrafica con problemi al cuore e data presente (dopo punto 1 e con 6): \",\n",
    "    len(aa_prob_cuore[[\"idana\", \"idcentro\"]].drop_duplicates()),\n",
    ")"
   ]
  },
  {
   "cell_type": "code",
   "execution_count": null,
   "metadata": {},
   "outputs": [],
   "source": [
    "del df_diagnosi_problemi_cuore"
   ]
  },
  {
   "cell_type": "markdown",
   "metadata": {},
   "source": [
    "## Task 1.2\n",
    "\n",
    "Invalid feature cleaning - check for dates and time intervals [x, y] such that y < x and not x ≤ y. Check for years that do not make sense (e.g., events before the birth of a particular patient)."
   ]
  },
  {
   "cell_type": "code",
   "execution_count": 10,
   "metadata": {},
   "outputs": [
    {
     "name": "stdout",
     "output_type": "stream",
     "text": [
      "numero righe con anno diagnosi diabete minore dell'anno di nascita:  0\n",
      "numero righe con anno primo accesso minore dell'anno di nascita:  0\n",
      "numero righe con anno decesso minore dell'anno di nascita:  0\n",
      "numero pazienti con anno decesso maggiore dell'anno 2022:  0\n",
      "numero righe con anno primo accesso a N/A:  25571\n",
      "numero righe con anno diagnosi diabete a N/A:  2234\n",
      "numero righe con anno primo accesso maggiore dell'anno decesso:  14\n"
     ]
    }
   ],
   "source": [
    "print(\n",
    "    \"numero righe con anno diagnosi diabete minore dell'anno di nascita: \",\n",
    "    sum(aa_prob_cuore[\"annodiagnosidiabete\"] < aa_prob_cuore[\"annonascita\"]),\n",
    ")  # 0\n",
    "\n",
    "print(\n",
    "    \"numero righe con anno primo accesso minore dell'anno di nascita: \",\n",
    "    sum(aa_prob_cuore[\"annoprimoaccesso\"] < aa_prob_cuore[\"annonascita\"]),\n",
    ")  # 0\n",
    "\n",
    "print(\n",
    "    \"numero righe con anno decesso minore dell'anno di nascita: \",\n",
    "    sum(\n",
    "        aa_prob_cuore[\"annodecesso\"].fillna(pd.Timestamp.now())\n",
    "        < aa_prob_cuore[\"annonascita\"]\n",
    "    ),\n",
    ")  # 3 # 0 se seleziono solo quelli con casi rilevanti\n",
    "\n",
    "# TODO: elimina, siccome non più rilevanti in quanto non presenti tra i pazienti con problemi al cuore\n",
    "# aa_prob_cuore = aa_prob_cuore[\n",
    "#     aa_prob_cuore[\"annodecesso\"].fillna(pd.Timestamp.now())\n",
    "#     >= aa_prob_cuore[\"annonascita\"]\n",
    "# ]\n",
    "\n",
    "# print(\n",
    "#     \"numero pazienti dopo scarto: \",\n",
    "#     len(aa_prob_cuore[[\"idana\", \"idcentro\"]].drop_duplicates()),\n",
    "# )\n",
    "\n",
    "# print(\n",
    "#     \"numero righe dopo scarto con anno decesso minore dell'anno di nascita: \",\n",
    "#     sum(\n",
    "#         aa_prob_cuore[\"annodecesso\"].fillna(pd.Timestamp.now())\n",
    "#         < aa_prob_cuore[\"annonascita\"]\n",
    "#     ),\n",
    "# )\n",
    "\n",
    "print(\n",
    "    \"numero pazienti con anno decesso maggiore dell'anno 2022: \",\n",
    "    sum(\n",
    "        aa_prob_cuore[\"annodecesso\"] > pd.to_datetime(2023, format=\"%Y\"),\n",
    "    ),\n",
    ")  # 0\n",
    "\n",
    "# the conversion in datetime don't work for the year 0001 or 0000\n",
    "# print(\n",
    "#     \"numero pazienti con anno di nascita negativo: \",\n",
    "#     sum(\n",
    "#         aa_prob_cuore[\"annonascita\"] < pd.to_datetime(\"0001\", format=\"%Y\"),\n",
    "#     ),\n",
    "# )\n",
    "\n",
    "print(\n",
    "    \"numero righe con anno primo accesso a N/A: \",\n",
    "    sum(aa_prob_cuore[\"annoprimoaccesso\"].isna()),\n",
    ")  # 25571\n",
    "\n",
    "print(\n",
    "    \"numero righe con anno diagnosi diabete a N/A: \",\n",
    "    sum(aa_prob_cuore[\"annodiagnosidiabete\"].isna()),\n",
    ")  # 2234\n",
    "\n",
    "print(\n",
    "    \"numero righe con anno primo accesso maggiore dell'anno decesso: \",\n",
    "    sum(\n",
    "        aa_prob_cuore[\"annoprimoaccesso\"]\n",
    "        > aa_prob_cuore[\"annodecesso\"].fillna(pd.Timestamp.now())\n",
    "    ),\n",
    ")  # 34 (dopo scarto precedente 33)\n",
    "# solo pazienti con eventi cardiovascolari: 14"
   ]
  },
  {
   "cell_type": "code",
   "execution_count": 11,
   "metadata": {},
   "outputs": [
    {
     "name": "stdout",
     "output_type": "stream",
     "text": [
      "numero righe dopo scarto con anno primo accesso maggiore dell'anno decesso:  0\n",
      "numero pazienti dopo scarto:  49990\n"
     ]
    }
   ],
   "source": [
    "aa_prob_cuore = aa_prob_cuore[\n",
    "    (\n",
    "        aa_prob_cuore[\"annoprimoaccesso\"]\n",
    "        <= aa_prob_cuore[\"annodecesso\"].fillna(pd.Timestamp.now())\n",
    "    )\n",
    "    | (aa_prob_cuore[\"annoprimoaccesso\"].isna())\n",
    "]\n",
    "\n",
    "print(\n",
    "    \"numero righe dopo scarto con anno primo accesso maggiore dell'anno decesso: \",\n",
    "    sum(\n",
    "        aa_prob_cuore[\"annoprimoaccesso\"]\n",
    "        > aa_prob_cuore[\"annodecesso\"].fillna(pd.Timestamp.now())\n",
    "    ),\n",
    ")\n",
    "\n",
    "print(\n",
    "    \"numero pazienti dopo scarto: \",\n",
    "    len(aa_prob_cuore[[\"idana\", \"idcentro\"]].drop_duplicates()),\n",
    ")"
   ]
  },
  {
   "cell_type": "code",
   "execution_count": 12,
   "metadata": {},
   "outputs": [],
   "source": [
    "# print(\"tipi possibili di diabete: \", aa_prob_cuore[\"tipodiabete\"].unique())\n",
    "# in anagrafica abbiamo solo pazienti con diagnosi di diabete di tipo 2 valore 5 in 'tipodiabete'\n",
    "# quindi possiamo fillare l'annodiagnosidiabete con l'annoprimoaccesso\n",
    "\n",
    "# visto che il tipo diabete è sempre lo stesso si può eliminare la colonna dal df per risparmiare memoria\n",
    "aa_prob_cuore.drop(columns=[\"tipodiabete\"], inplace=True)"
   ]
  },
  {
   "cell_type": "code",
   "execution_count": 13,
   "metadata": {},
   "outputs": [
    {
     "name": "stdout",
     "output_type": "stream",
     "text": [
      "numero righe con anno diagnosi diabete maggiore dell'anno decesso:  3\n",
      "numero righe dopo scarto con anno diagnosi diabete maggiore dell'anno decesso:  0\n",
      "numero pazienti dopo scarto:  49987\n",
      "numero righe con anno diagnosi diabete a N/A, ma che hanno l'anno di primo accesso:  1797\n"
     ]
    }
   ],
   "source": [
    "print(\n",
    "    \"numero righe con anno diagnosi diabete maggiore dell'anno decesso: \",\n",
    "    sum(\n",
    "        aa_prob_cuore[\"annodiagnosidiabete\"]\n",
    "        > aa_prob_cuore[\"annodecesso\"].fillna(pd.Timestamp.now())\n",
    "    ),\n",
    ")  # 22 (dopo scarto precedente 2)\n",
    "# 14 solo paziente con eventi cadriovascolari\n",
    "\n",
    "aa_prob_cuore = aa_prob_cuore[\n",
    "    (\n",
    "        aa_prob_cuore[\"annodiagnosidiabete\"]\n",
    "        <= aa_prob_cuore[\"annodecesso\"].fillna(pd.Timestamp.now())\n",
    "    )\n",
    "    | aa_prob_cuore[\"annodiagnosidiabete\"].isna()\n",
    "]\n",
    "\n",
    "print(\n",
    "    \"numero righe dopo scarto con anno diagnosi diabete maggiore dell'anno decesso: \",\n",
    "    sum(\n",
    "        aa_prob_cuore[\"annodiagnosidiabete\"]\n",
    "        > aa_prob_cuore[\"annodecesso\"].fillna(pd.Timestamp.now())\n",
    "    ),\n",
    ")\n",
    "\n",
    "print(\n",
    "    \"numero pazienti dopo scarto: \",\n",
    "    len(aa_prob_cuore[[\"idana\", \"idcentro\"]].drop_duplicates()),\n",
    ")\n",
    "\n",
    "print(\n",
    "    \"numero righe con anno diagnosi diabete a N/A, ma che hanno l'anno di primo accesso: \",\n",
    "    len(\n",
    "        aa_prob_cuore[\n",
    "            aa_prob_cuore[\"annodiagnosidiabete\"].isna()\n",
    "            & aa_prob_cuore[\"annoprimoaccesso\"].notnull()\n",
    "        ][[\"idana\", \"idcentro\"]]\n",
    "    ),\n",
    ")  # 1797\n",
    "# TODO con questa info si potrebbe fillare l'annodiagnosidiabete con l'annoprimoaccesso"
   ]
  },
  {
   "cell_type": "code",
   "execution_count": 14,
   "metadata": {},
   "outputs": [
    {
     "name": "stdout",
     "output_type": "stream",
     "text": [
      "numero righe anno diagnosi diabete minore anno di nascita:  0\n",
      "numero righe anno primo accesso minore anno di nascita:  0\n",
      "numero righe anno decesso minore anno di nascita:  0\n"
     ]
    }
   ],
   "source": [
    "# questi son tutti a 0\n",
    "print(\n",
    "    \"numero righe anno diagnosi diabete minore anno di nascita: \",\n",
    "    sum(aa_prob_cuore[\"annodiagnosidiabete\"] < aa_prob_cuore[\"annonascita\"]),\n",
    ")  # 0\n",
    "print(\n",
    "    \"numero righe anno primo accesso minore anno di nascita: \",\n",
    "    sum(aa_prob_cuore[\"annoprimoaccesso\"] < aa_prob_cuore[\"annonascita\"]),\n",
    ")  # 0\n",
    "print(\n",
    "    \"numero righe anno decesso minore anno di nascita: \",\n",
    "    sum(aa_prob_cuore[\"annodecesso\"] < aa_prob_cuore[\"annonascita\"]),\n",
    ")  # 0\n",
    "# print(sum(aa_prob_cuore[\"annodecesso\"] > 2022))  # 0\n",
    "# print(sum(aa_prob_cuore[\"annonascita\"] < 0))  # 0"
   ]
  },
  {
   "cell_type": "code",
   "execution_count": 15,
   "metadata": {},
   "outputs": [
    {
     "name": "stdout",
     "output_type": "stream",
     "text": [
      "numero righe con data di primo accesso maggiore della data di decesso:  0\n",
      "numero pazienti unici con data di primo accesso maggiore della data di decesso:  0\n",
      "numero righe con data di diagnosi di diabete maggiore della data di decesso:  0\n",
      "numero pazienti unici con data di diagnosi di diabete maggiore della data di decesso:  0\n",
      "numero righe con anno diagnosi diabete a N/A:  2234\n",
      "numero pazienti unici con anno diagnosi diabete a N/A:  526\n",
      "numero righe con anno diagnosi diabete a N/A ma con anno primo accesso presente:  1797\n",
      "numero pazienti unici con anno diagnosi diabete a N/A ma con anno primo accesso presente:  365\n"
     ]
    }
   ],
   "source": [
    "# 7 pazienti hanno la data di primo accesso maggiore della data di decesso -> da scartare\n",
    "# i 7 non sono presenti tra i pazienti con eventi cardiovascolari\n",
    "print(\n",
    "    \"numero righe con data di primo accesso maggiore della data di decesso: \",\n",
    "    sum(aa_prob_cuore[\"annoprimoaccesso\"] > aa_prob_cuore[\"annodecesso\"]),\n",
    ")  # 14 righe di cui 7 unici # 0 tra i pazienti con eventi cardiovascolari\n",
    "\n",
    "print(\n",
    "    \"numero pazienti unici con data di primo accesso maggiore della data di decesso: \",\n",
    "    len(\n",
    "        aa_prob_cuore[aa_prob_cuore[\"annoprimoaccesso\"] > aa_prob_cuore[\"annodecesso\"]][\n",
    "            [\"idana\", \"idcentro\"]\n",
    "        ].drop_duplicates()\n",
    "    ),\n",
    ")\n",
    "\n",
    "# 5 pazienti hanno la data di diagnosi di diabete maggiore della data di decesso -> da scartare\n",
    "# i 5 non sono presenti tra i pazienti con eventi cardiovascolari\n",
    "print(\n",
    "    \"numero righe con data di diagnosi di diabete maggiore della data di decesso: \",\n",
    "    sum(aa_prob_cuore[\"annodiagnosidiabete\"] > aa_prob_cuore[\"annodecesso\"]),\n",
    ")  # 9 righe di cui 5 unici # 0 tra i pazienti con eventi cardiovascolari\n",
    "\n",
    "print(\n",
    "    \"numero pazienti unici con data di diagnosi di diabete maggiore della data di decesso: \",\n",
    "    len(\n",
    "        aa_prob_cuore[\n",
    "            aa_prob_cuore[\"annodiagnosidiabete\"] > aa_prob_cuore[\"annodecesso\"]\n",
    "        ][[\"idana\", \"idcentro\"]].drop_duplicates()\n",
    "    ),\n",
    ")\n",
    "\n",
    "print(\n",
    "    \"numero righe con anno diagnosi diabete a N/A: \",\n",
    "    sum(aa_prob_cuore[\"annodiagnosidiabete\"].isna()),\n",
    ")  # 2234\n",
    "\n",
    "print(\n",
    "    \"numero pazienti unici con anno diagnosi diabete a N/A: \",\n",
    "    len(\n",
    "        aa_prob_cuore[aa_prob_cuore[\"annodiagnosidiabete\"].isna()][\n",
    "            [\"idana\", \"idcentro\"]\n",
    "        ].drop_duplicates()\n",
    "    ),\n",
    ")  # 526\n",
    "\n",
    "# in anagrafica abbiamo solo pazienti con diagnosi di diabete di tipo 2 valore 5 in 'tipodiabete'\n",
    "# quindi possiamo fillare l'annodiagnosidiabete con l'annoprimoaccesso\n",
    "print(\n",
    "    \"numero righe con anno diagnosi diabete a N/A ma con anno primo accesso presente: \",\n",
    "    len(\n",
    "        aa_prob_cuore[\n",
    "            aa_prob_cuore[\"annodiagnosidiabete\"].isna()\n",
    "            & aa_prob_cuore[\"annoprimoaccesso\"].notnull()\n",
    "        ][[\"idana\", \"idcentro\"]]\n",
    "    ),\n",
    ")  # 1797\n",
    "\n",
    "print(\n",
    "    \"numero pazienti unici con anno diagnosi diabete a N/A ma con anno primo accesso presente: \",\n",
    "    len(\n",
    "        aa_prob_cuore[\n",
    "            aa_prob_cuore[\"annodiagnosidiabete\"].isna()\n",
    "            & aa_prob_cuore[\"annoprimoaccesso\"].notnull()\n",
    "        ][[\"idana\", \"idcentro\"]].drop_duplicates()\n",
    "    ),\n",
    ")  # 365"
   ]
  },
  {
   "cell_type": "markdown",
   "metadata": {},
   "source": [
    "The following cell is about point 1.6"
   ]
  },
  {
   "cell_type": "code",
   "execution_count": 16,
   "metadata": {},
   "outputs": [
    {
     "name": "stdout",
     "output_type": "stream",
     "text": [
      "numero pazienti unici dopo fill con anno diagnosi diabete a N/A ma con anno primo accesso presente:  0\n",
      "numero righe dopo fill con anno diagnosi diabete a N/A:  437\n",
      "numero pazienti unici dopo fill con anno diagnosi diabete a N/A:  161\n",
      "numero righe dopo fill con anno primo accesso a N/A:  25569\n",
      "numero pazienti unici dopo fill con anno primo accesso a N/A:  6970\n"
     ]
    }
   ],
   "source": [
    "# fill annodiagnosidiabete with annoprimoaccesso where aa_prob_cuore[\"annodiagnosidiabete\"].isna() & aa_prob_cuore[\"annoprimoaccesso\"].notnull()\n",
    "# for POINT 6\n",
    "aa_prob_cuore.loc[\n",
    "    aa_prob_cuore[\"annodiagnosidiabete\"].isna()\n",
    "    & aa_prob_cuore[\"annoprimoaccesso\"].notnull(),\n",
    "    \"annodiagnosidiabete\",\n",
    "] = aa_prob_cuore.loc[\n",
    "    aa_prob_cuore[\"annodiagnosidiabete\"].isna()\n",
    "    & aa_prob_cuore[\"annoprimoaccesso\"].notnull(),\n",
    "    \"annoprimoaccesso\",\n",
    "]\n",
    "\n",
    "print(\n",
    "    \"numero pazienti unici dopo fill con anno diagnosi diabete a N/A ma con anno primo accesso presente: \",\n",
    "    len(\n",
    "        aa_prob_cuore[\n",
    "            aa_prob_cuore[\"annodiagnosidiabete\"].isna()\n",
    "            & aa_prob_cuore[\"annoprimoaccesso\"].notnull()\n",
    "        ][[\"idana\", \"idcentro\"]].drop_duplicates()\n",
    "    ),\n",
    ")\n",
    "\n",
    "print(\n",
    "    \"numero righe dopo fill con anno diagnosi diabete a N/A: \",\n",
    "    sum(aa_prob_cuore[\"annodiagnosidiabete\"].isna()),\n",
    ")  # 437\n",
    "\n",
    "print(\n",
    "    \"numero pazienti unici dopo fill con anno diagnosi diabete a N/A: \",\n",
    "    len(\n",
    "        aa_prob_cuore[aa_prob_cuore[\"annodiagnosidiabete\"].isna()][\n",
    "            [\"idana\", \"idcentro\"]\n",
    "        ].drop_duplicates()\n",
    "    ),\n",
    ")  # 161\n",
    "\n",
    "print(\n",
    "    \"numero righe dopo fill con anno primo accesso a N/A: \",\n",
    "    sum(aa_prob_cuore[\"annoprimoaccesso\"].isna()),\n",
    ")  #\n",
    "\n",
    "print(\n",
    "    \"numero pazienti unici dopo fill con anno primo accesso a N/A: \",\n",
    "    len(\n",
    "        aa_prob_cuore[aa_prob_cuore[\"annoprimoaccesso\"].isna()][\n",
    "            [\"idana\", \"idcentro\"]\n",
    "        ].drop_duplicates()\n",
    "    ),\n",
    ")"
   ]
  },
  {
   "cell_type": "code",
   "execution_count": 17,
   "metadata": {},
   "outputs": [
    {
     "name": "stdout",
     "output_type": "stream",
     "text": [
      "49987\n",
      "idcentro                    0\n",
      "idana                       0\n",
      "sesso                       0\n",
      "annodiagnosidiabete       437\n",
      "scolarita              150789\n",
      "statocivile            106756\n",
      "professione            111335\n",
      "origine                230207\n",
      "annonascita                 0\n",
      "annoprimoaccesso        25569\n",
      "annodecesso            207593\n",
      "data                        0\n",
      "codiceamd                   0\n",
      "valore                      0\n",
      "dtype: int64\n"
     ]
    }
   ],
   "source": [
    "print(len(aa_prob_cuore[[\"idana\", \"idcentro\"]].drop_duplicates()))\n",
    "\n",
    "print(aa_prob_cuore.isna().sum())"
   ]
  },
  {
   "cell_type": "code",
   "execution_count": 18,
   "metadata": {},
   "outputs": [],
   "source": [
    "def printSexInfo(dataset):\n",
    "    dataset = dataset[[\"idcentro\", \"idana\", \"sesso\"]].drop_duplicates()\n",
    "    print(\"numero righe del df: \", len(dataset))\n",
    "\n",
    "    print(\"Sex info\")\n",
    "    print(dataset[\"sesso\"].unique())\n",
    "    print(\"sesso ad N/A\", dataset[\"sesso\"].isna().sum())\n",
    "    print(\"Maschi: \", sum(dataset[\"sesso\"].isin([\"M\"])))\n",
    "    print(\"Femmine: \", sum(dataset[\"sesso\"].isin([\"F\"])))"
   ]
  },
  {
   "cell_type": "code",
   "execution_count": 19,
   "metadata": {},
   "outputs": [],
   "source": [
    "\n",
    "def getDeaseasePercentage(dataset, deaseases):\n",
    "    print(\"Deasease: \", deaseases)\n",
    "    # print(dataset.columns)\n",
    "    percent = \"Percentage of deasease:\\n\"\n",
    "    dataset = dataset[[\"idcentro\", \"idana\", \"codiceamd\"]].drop_duplicates()\n",
    "    print(\"numero righe del df: \", len(dataset))\n",
    "\n",
    "    for deasease in deaseases:\n",
    "        # print(\"Deasease: \", deasease)\n",
    "        tempdataset = dataset[dataset[\"codiceamd\"].isin([deasease])]\n",
    "        tempdataset2 = tempdataset[[\"idana\", \"idcentro\"]].drop_duplicates()\n",
    "        total = len(dataset[[\"idana\", \"idcentro\"]].drop_duplicates())\n",
    "        percent += (\n",
    "            deasease\n",
    "            + \": \"\n",
    "            + str(len(tempdataset2) / total * 100)\n",
    "            + \"%\\t\"\n",
    "            + str(len(tempdataset2))\n",
    "            + \" su \"\n",
    "            + str(total)\n",
    "            + \"\\n\"\n",
    "        )\n",
    "    print(percent)"
   ]
  },
  {
   "cell_type": "code",
   "execution_count": 20,
   "metadata": {},
   "outputs": [],
   "source": [
    "\n",
    "def getInfoOnDiagnosi(df):\n",
    "    print(\"+++++++++++++++++++++++++++++++++++++++++++++++++++++++++++++++++++++++++++\")\n",
    "    print(\"Info on diagnosi\")\n",
    "    print(\n",
    "        \"il dizionario stampato è formattato così: 'chiave': [minori, uguali, maggiori] rispetto a data\"\n",
    "    )\n",
    "    dates = [\"annodiagnosidiabete\", \"annonascita\", \"annoprimoaccesso\", \"annodecesso\"]\n",
    "    stampami = dict()\n",
    "    df = df[\n",
    "        [\n",
    "            \"idcentro\",\n",
    "            \"idana\",\n",
    "            \"annodiagnosidiabete\",\n",
    "            \"annonascita\",\n",
    "            \"annoprimoaccesso\",\n",
    "            \"annodecesso\",\n",
    "            \"data\",\n",
    "        ]\n",
    "    ].drop_duplicates()\n",
    "\n",
    "    print(\"numero righe del df: \", len(df))\n",
    "\n",
    "    for d in dates:\n",
    "        # where the nan values goes? they are counted as what? minor or major?\n",
    "        minor = (df[d] < df[\"data\"]).sum()\n",
    "        equal = (df[d] == df[\"data\"]).sum()\n",
    "        more = (df[d] > df[\"data\"]).sum()\n",
    "        stampami[d] = [minor, equal, more]\n",
    "\n",
    "    print(stampami)"
   ]
  },
  {
   "cell_type": "code",
   "execution_count": 21,
   "metadata": {},
   "outputs": [
    {
     "name": "stdout",
     "output_type": "stream",
     "text": [
      "+++++++++++++++++++++++++++++++++++++++++++++++++++++++++++++++++++++++++++\n",
      "Info on diagnosi\n",
      "il dizionario stampato è formattato così: 'chiave': [minori, uguali, maggiori] rispetto a data\n",
      "numero righe del df:  180684\n",
      "{'annodiagnosidiabete': [163737, 548, 16023], 'annonascita': [175118, 0, 5566], 'annoprimoaccesso': [134286, 246, 25984], 'annodecesso': [992, 6, 18776]}\n",
      "In anagrafica attivi abbiamo:\n",
      "numero righe del df:  49987\n",
      "Sex info\n",
      "['M' 'F']\n",
      "sesso ad N/A 0\n",
      "Maschi:  36259\n",
      "Femmine:  13728\n",
      "Fra i pazienti con problemi al cuore abbiamo:\n",
      "numero righe del df:  49987\n",
      "Sex info\n",
      "['M' 'F']\n",
      "sesso ad N/A 0\n",
      "Maschi:  36259\n",
      "Femmine:  13728\n",
      "Deasease:  ['AMD047', 'AMD048', 'AMD049', 'AMD071', 'AMD081', 'AMD082', 'AMD208', 'AMD303']\n",
      "numero righe del df:  70922\n",
      "Percentage of deasease:\n",
      "AMD047: 52.59167383519715%\t26289 su 49987\n",
      "AMD048: 37.603776982015326%\t18797 su 49987\n",
      "AMD049: 21.22951967511553%\t10612 su 49987\n",
      "AMD071: 8.79828755476424%\t4398 su 49987\n",
      "AMD081: 7.671994718626843%\t3835 su 49987\n",
      "AMD082: 3.1128093304259106%\t1556 su 49987\n",
      "AMD208: 0.8402184567987676%\t420 su 49987\n",
      "AMD303: 10.032608478204333%\t5015 su 49987\n",
      "\n",
      "numero pazienti con più codici amd diversi:  35478\n",
      "numero pazienti con un unico codice amd:  14509\n"
     ]
    }
   ],
   "source": [
    "getInfoOnDiagnosi(aa_prob_cuore)\n",
    "# Sesso\n",
    "print(\"In anagrafica attivi abbiamo:\")\n",
    "printSexInfo(aa_prob_cuore)\n",
    "print(\"Fra i pazienti con problemi al cuore abbiamo:\")\n",
    "printSexInfo(aa_prob_cuore)\n",
    "# Deasease Distribution\n",
    "getDeaseasePercentage(aa_prob_cuore, AMD_OF_CARDIOVASCULAR_EVENT)\n",
    "# TODO: qui i numeri non tornano quindi significa che stessi pazienti hanno avuto più codici amd diversi\n",
    "# ora vai a capire in ambito medico se significa che hanno più problemi diversi o che hanno avuto diverse diagnosi,\n",
    "# che la malattia progredisce e quindi cambia codice amd, bho\n",
    "# provo a capire quali sono i pazienti che hanno avuto più codici amd diversi:\n",
    "print(\n",
    "    \"numero pazienti con più codici amd diversi: \",\n",
    "    len(\n",
    "        aa_prob_cuore[aa_prob_cuore[[\"idana\", \"idcentro\"]].duplicated(keep=False)][\n",
    "            [\"idana\", \"idcentro\"]\n",
    "        ].drop_duplicates()\n",
    "    ),\n",
    ")\n",
    "\n",
    "# print(\n",
    "#     \"pazienti con più codici amd diversi: \",\n",
    "#     aa_prob_cuore[aa_prob_cuore[[\"idana\", \"idcentro\"]].duplicated(keep=False)][[\"idana\", \"idcentro\"]].drop_duplicates(),\n",
    "# )\n",
    "\n",
    "print(\n",
    "    \"numero pazienti con un unico codice amd: \",\n",
    "    len(\n",
    "        aa_prob_cuore[~aa_prob_cuore[[\"idana\", \"idcentro\"]].duplicated(keep=False)][\n",
    "            [\"idana\", \"idcentro\"]\n",
    "        ].drop_duplicates()\n",
    "    ),\n",
    ")\n",
    "\n",
    "# TODO: qui si potrebbe calcolare anche qual'è la percentuale in base al sesso e casomai anche per età\n",
    "\n",
    "# TODO: qui si potrebbe pensare di controllare se l'anno di nascita è uguale all' anno decesso e la data (del controllo?)\n",
    "# è maggiore dell'anno primo accesso e di diagnosi del diabete di settare a nan l'anno di decesso in modo da non dover\n",
    "# eliminare quei dati (però chi ti dice che è il decesso l'errore e non le visite?)"
   ]
  },
  {
   "cell_type": "code",
   "execution_count": 22,
   "metadata": {},
   "outputs": [
    {
     "name": "stdout",
     "output_type": "stream",
     "text": [
      "49987\n"
     ]
    }
   ],
   "source": [
    "aa_prob_cuore = aa_prob_cuore.drop(\n",
    "    aa_prob_cuore[\n",
    "        aa_prob_cuore[\"annoprimoaccesso\"] > aa_prob_cuore[\"annodecesso\"]\n",
    "    ].index,\n",
    ")\n",
    "print(len(aa_prob_cuore[[\"idana\", \"idcentro\"]].drop_duplicates()))"
   ]
  },
  {
   "cell_type": "code",
   "execution_count": 23,
   "metadata": {},
   "outputs": [],
   "source": [
    "# TODO: qui si potrebbe pensare di controllare se l'anno di nascita è uguale all' anno decesso e la data (del controllo?)\n",
    "# è maggiore dell'anno primo accesso e di diagnosi del diabete di settare a nan l'anno di decesso in modo da non dover\n",
    "# eliminare quei dati (però chi ti dice che è il decesso l'errore e non le visite?)"
   ]
  },
  {
   "cell_type": "markdown",
   "metadata": {},
   "source": [
    "Cancellabile la prossima cella? "
   ]
  },
  {
   "cell_type": "code",
   "execution_count": 24,
   "metadata": {},
   "outputs": [
    {
     "name": "stdout",
     "output_type": "stream",
     "text": [
      "dopo scarto :\n",
      "49987\n"
     ]
    }
   ],
   "source": [
    "aa_prob_cuore = aa_prob_cuore.drop(\n",
    "    aa_prob_cuore[\n",
    "        aa_prob_cuore[\"annodiagnosidiabete\"] > aa_prob_cuore[\"annodecesso\"]\n",
    "    ].index,\n",
    ")  # già fatto sopra? ops\n",
    "\n",
    "print(\"dopo scarto :\")\n",
    "print(len(aa_prob_cuore[[\"idana\", \"idcentro\"]].drop_duplicates()))"
   ]
  },
  {
   "cell_type": "code",
   "execution_count": 25,
   "metadata": {},
   "outputs": [
    {
     "name": "stdout",
     "output_type": "stream",
     "text": [
      "numero pazienti unici con anno diagnosi diabete minore dell'anno primo accesso:  27591\n",
      "numero pazienti unici con anno diagnosi diabete maggiore dell'anno primo accesso:  15426\n"
     ]
    }
   ],
   "source": [
    "# siccome più della metà dei pazienti che hanno problemi al cuore\n",
    "# hanno l'anno di diagnosi di diabete minore dell'anno di primo accesso\n",
    "# noi abbiamo deciso di fillare l'annodiagnosidiabete con l'anno primo accesso\n",
    "print(\n",
    "    \"numero pazienti unici con anno diagnosi diabete minore dell'anno primo accesso: \",\n",
    "    len(\n",
    "        aa_prob_cuore[\n",
    "            aa_prob_cuore[\"annodiagnosidiabete\"] < aa_prob_cuore[\"annoprimoaccesso\"]\n",
    "        ][[\"idana\", \"idcentro\"]].drop_duplicates()\n",
    "    ),\n",
    ")  # 27592\n",
    "\n",
    "print(\n",
    "    \"numero pazienti unici con anno diagnosi diabete maggiore dell'anno primo accesso: \",\n",
    "    len(\n",
    "        aa_prob_cuore[\n",
    "            aa_prob_cuore[\"annodiagnosidiabete\"] >= aa_prob_cuore[\"annoprimoaccesso\"]\n",
    "        ][[\"idana\", \"idcentro\"]].drop_duplicates()\n",
    "    ),\n",
    ")  # 15426"
   ]
  },
  {
   "cell_type": "code",
   "execution_count": 26,
   "metadata": {},
   "outputs": [
    {
     "name": "stdout",
     "output_type": "stream",
     "text": [
      "All filtered :\n",
      "49826\n",
      "############## LOADING DATASETS ##############\n",
      "loaded esami parametri\n",
      "loaded esami parametri calcolati\n",
      "loaded esami strumentali\n",
      "loaded diagnosi\n",
      "loaded prescrizioni diabete farmaci\n",
      "loaded prescrizioni diabete non farmaci\n",
      "loaded prescrizioni non diabete\n"
     ]
    }
   ],
   "source": [
    "print(\"All filtered :\")\n",
    "aa_prob_cuore = aa_prob_cuore.dropna(subset=\"annodiagnosidiabete\")\n",
    "print(len(aa_prob_cuore[[\"idana\", \"idcentro\"]].drop_duplicates()))  # 49829\n",
    "\n",
    "### Punto 2 per dataset diversi da anagrafica attivi e diagnosi\n",
    "\n",
    "## Carica i dataset\n",
    "print(\"############## LOADING DATASETS ##############\")\n",
    "\n",
    "df_esami_par = df_list[\"esamilaboratorioparametri\"].result()\n",
    "print(\"loaded esami parametri\")\n",
    "\n",
    "df_esami_par_cal = df_list[\"esamilaboratorioparametricalcolati\"].result()\n",
    "print(\"loaded esami parametri calcolati\")\n",
    "\n",
    "df_esami_stru = df_list[\"esamistrumentali\"].result()\n",
    "print(\"loaded esami strumentali\")\n",
    "\n",
    "df_diagnosi = df_list[\"diagnosi\"].result()\n",
    "print(\"loaded diagnosi\")\n",
    "\n",
    "df_prescrizioni_diabete_farmaci = df_list[\"prescrizionidiabetefarmaci\"].result()\n",
    "print(\"loaded prescrizioni diabete farmaci\")\n",
    "\n",
    "df_prescrizioni_diabete_non_farmaci = df_list[\"prescrizionidiabetenonfarmaci\"].result()\n",
    "print(\"loaded prescrizioni diabete non farmaci\")\n",
    "\n",
    "df_prescirizioni_non_diabete = df_list[\"prescrizioninondiabete\"].result()\n",
    "print(\"loaded prescrizioni non diabete\")"
   ]
  },
  {
   "cell_type": "code",
   "execution_count": 27,
   "metadata": {},
   "outputs": [],
   "source": [
    "del df_list"
   ]
  },
  {
   "cell_type": "code",
   "execution_count": 28,
   "metadata": {},
   "outputs": [
    {
     "name": "stdout",
     "output_type": "stream",
     "text": [
      "49826\n"
     ]
    }
   ],
   "source": [
    "## Calcola le chiavi dei pazienti di interesse\n",
    "aa_cuore_dates = aa_prob_cuore[\n",
    "    [\n",
    "        \"idana\",\n",
    "        \"idcentro\",\n",
    "        \"annonascita\",\n",
    "        \"annoprimoaccesso\",\n",
    "        \"annodecesso\",\n",
    "    ]\n",
    "].drop_duplicates()\n",
    "print(len(aa_cuore_dates))"
   ]
  },
  {
   "cell_type": "code",
   "execution_count": 29,
   "metadata": {},
   "outputs": [],
   "source": [
    "## Cast string to datatime\n",
    "def cast_to_datetime(df, col, format=\"%Y-%m-%d\"):\n",
    "    df[col] = pd.to_datetime(df[col], format=format)\n",
    "    return df[col]"
   ]
  },
  {
   "cell_type": "code",
   "execution_count": 30,
   "metadata": {},
   "outputs": [
    {
     "name": "stdout",
     "output_type": "stream",
     "text": [
      "numero pazienti esami par:  49558\n",
      "numero pazienti esami par cal:  49270\n",
      "numero pazienti esami stru:  37080\n",
      "numero pazienti diagnosi:  49826\n",
      "numero pazienti prescrizioni diabete farmaci:  46398\n",
      "numero pazienti prescrizioni diabete non farmaci:  27671\n",
      "numero pazienti prescrizioni non diabete:  46005\n"
     ]
    }
   ],
   "source": [
    "df_esami_par = df_esami_par.merge(aa_cuore_dates, on=[\"idana\", \"idcentro\"], how=\"inner\")\n",
    "print(\n",
    "    \"numero pazienti esami par: \",\n",
    "    len(df_esami_par[[\"idana\", \"idcentro\"]].drop_duplicates()),\n",
    ")\n",
    "\n",
    "df_esami_par_cal = df_esami_par_cal.merge(\n",
    "    aa_cuore_dates, on=[\"idana\", \"idcentro\"], how=\"inner\"\n",
    ")\n",
    "print(\n",
    "    \"numero pazienti esami par cal: \",\n",
    "    len(df_esami_par_cal[[\"idana\", \"idcentro\"]].drop_duplicates()),\n",
    ")\n",
    "\n",
    "df_esami_stru = df_esami_stru.merge(\n",
    "    aa_cuore_dates, on=[\"idana\", \"idcentro\"], how=\"inner\"\n",
    ")\n",
    "print(\n",
    "    \"numero pazienti esami stru: \",\n",
    "    len(df_esami_stru[[\"idana\", \"idcentro\"]].drop_duplicates()),\n",
    ")\n",
    "\n",
    "\n",
    "df_diagnosi = df_diagnosi.merge(aa_cuore_dates, on=[\"idana\", \"idcentro\"], how=\"inner\")\n",
    "print(\n",
    "    \"numero pazienti diagnosi: \",\n",
    "    len(df_diagnosi[[\"idana\", \"idcentro\"]].drop_duplicates()),\n",
    ")\n",
    "\n",
    "df_prescrizioni_diabete_farmaci = df_prescrizioni_diabete_farmaci.merge(\n",
    "    aa_cuore_dates, on=[\"idana\", \"idcentro\"], how=\"inner\"\n",
    ")\n",
    "print(\n",
    "    \"numero pazienti prescrizioni diabete farmaci: \",\n",
    "    len(df_prescrizioni_diabete_farmaci[[\"idana\", \"idcentro\"]].drop_duplicates()),\n",
    ")\n",
    "\n",
    "\n",
    "df_prescrizioni_diabete_non_farmaci = df_prescrizioni_diabete_non_farmaci.merge(\n",
    "    aa_cuore_dates, on=[\"idana\", \"idcentro\"], how=\"inner\"\n",
    ")\n",
    "print(\n",
    "    \"numero pazienti prescrizioni diabete non farmaci: \",\n",
    "    len(df_prescrizioni_diabete_non_farmaci[[\"idana\", \"idcentro\"]].drop_duplicates()),\n",
    ")\n",
    "\n",
    "df_prescirizioni_non_diabete = df_prescirizioni_non_diabete.merge(\n",
    "    aa_cuore_dates, on=[\"idana\", \"idcentro\"], how=\"inner\"\n",
    ")\n",
    "print(\n",
    "    \"numero pazienti prescrizioni non diabete: \",\n",
    "    len(df_prescirizioni_non_diabete[[\"idana\", \"idcentro\"]].drop_duplicates()),\n",
    ")"
   ]
  },
  {
   "cell_type": "code",
   "execution_count": 31,
   "metadata": {},
   "outputs": [],
   "source": [
    "del aa_cuore_dates"
   ]
  },
  {
   "cell_type": "code",
   "execution_count": 32,
   "metadata": {},
   "outputs": [],
   "source": [
    "list_of_df = [\n",
    "    df_esami_par,\n",
    "    df_esami_par_cal,\n",
    "    df_esami_stru,\n",
    "    df_diagnosi,\n",
    "    df_prescrizioni_diabete_farmaci,\n",
    "    df_prescrizioni_diabete_non_farmaci,\n",
    "    df_prescirizioni_non_diabete,\n",
    "]\n",
    "\n",
    "## Cast string to datetime\n",
    "for df in list_of_df:\n",
    "    df[\"data\"] = cast_to_datetime(df, \"data\", format=\"%Y-%m-%d\")"
   ]
  },
  {
   "cell_type": "code",
   "execution_count": 33,
   "metadata": {},
   "outputs": [],
   "source": [
    "def clean_between_dates(df, col=\"data\", col_start=\"annonascita\", col_end=\"annodecesso\"):\n",
    "    # this create a temporary df with only the patients of interest\n",
    "    df1 = df.merge(aa_cuore_dates, on=[\"idana\", \"idcentro\"], how=\"inner\")\n",
    "    print(\n",
    "        \"numero pazienti: \",\n",
    "        len(df1[[\"idana\", \"idcentro\"]].drop_duplicates()),\n",
    "    )\n",
    "    # non conosco la data in cui il dataset è stato samplato quindi ho usato il timestamp corrente(adesso) come workaround.\n",
    "    df1 = df1[\n",
    "        (df1[col] >= df1[col_start])\n",
    "        & (df1[col] <= df1[col_end].fillna(pd.Timestamp.now()))\n",
    "    ]\n",
    "    # this ensure that the columns of patients of interest are the same as the original\n",
    "    # df filtered only by the keys of the processed patients\n",
    "    df = df.merge(\n",
    "        df1[[\"idana\", \"idcentro\"]].drop_duplicates(), on=[\"idana\", \"idcentro\"]\n",
    "    )\n",
    "    return df"
   ]
  },
  {
   "cell_type": "code",
   "execution_count": 34,
   "metadata": {},
   "outputs": [],
   "source": [
    "for df in list_of_df:\n",
    "    df = clean_between_dates(df)"
   ]
  },
  {
   "cell_type": "markdown",
   "metadata": {},
   "source": [
    "## Task 1.3"
   ]
  },
  {
   "cell_type": "code",
   "execution_count": 35,
   "metadata": {},
   "outputs": [],
   "source": [
    "# TODO: verify if the concat is correct as the same as merge, and also if is the best way to do this\n",
    "# TODO: here we must use also prescrizioni? or only esami and diagnosi? I think for me has more sense to only look\n",
    "#  at esami and diagnosi (and also the specific tal about examinations and diagnosis and not about prescrizioni),\n",
    "#  but I'm not 100% sure"
   ]
  },
  {
   "cell_type": "code",
   "execution_count": 36,
   "metadata": {},
   "outputs": [],
   "source": [
    "df_diagnosi_and_esami = pd.concat(\n",
    "    objs=(\n",
    "        idf.set_index([\"idana\", \"idcentro\"])\n",
    "        for idf in [\n",
    "            df_diagnosi[[\"idana\", \"idcentro\", \"data\"]],\n",
    "            df_esami_par[[\"idana\", \"idcentro\", \"data\"]],\n",
    "            df_esami_par_cal[[\"idana\", \"idcentro\", \"data\"]],\n",
    "            df_esami_stru[[\"idana\", \"idcentro\", \"data\"]],\n",
    "        ]\n",
    "    ),\n",
    "    # ignore_index=True,\n",
    "    join=\"inner\",\n",
    ").reset_index()  # 49768"
   ]
  },
  {
   "cell_type": "code",
   "execution_count": 37,
   "metadata": {},
   "outputs": [
    {
     "name": "stdout",
     "output_type": "stream",
     "text": [
      "49826\n",
      "numero pazienti di interesse inizio punto 3:  49826\n"
     ]
    }
   ],
   "source": [
    "print(len(df_diagnosi_and_esami[[\"idana\", \"idcentro\"]].drop_duplicates()))\n",
    "\n",
    "print(\n",
    "    \"numero pazienti di interesse inizio punto 3: \",\n",
    "    len(df_diagnosi_and_esami[[\"idana\", \"idcentro\"]].drop_duplicates()),\n",
    ")\n",
    "# print(df_diagnosi_and_esami.head())\n",
    "# print(df_diagnosi_and_esami.info())"
   ]
  },
  {
   "cell_type": "code",
   "execution_count": 38,
   "metadata": {},
   "outputs": [
    {
     "name": "stdout",
     "output_type": "stream",
     "text": [
      "groups_diagnosi_and_esami\n",
      "numero di pazienti con tutte le date in un unico giorno:  535\n",
      "numero di pazienti con tutte le date in un unico mese:  871\n",
      "paziente traiettoria minima:                       data              data_min   data_max    diff\n",
      "                      min        max                              \n",
      "idana idcentro                                                    \n",
      "3355  100      2014-09-08 2014-10-09 2014-09-08 2014-10-09 31 days\n",
      "7622  154      2007-05-05 2007-06-05 2007-05-05 2007-06-05 31 days\n",
      "paziente traiettoria massima:                       data              data_min   data_max       diff\n",
      "                      min        max                                 \n",
      "idana idcentro                                                       \n",
      "3053  142      1900-01-02 2019-08-19 1900-01-02 2019-08-19 43693 days\n",
      "221   82       1900-01-20 2019-09-11 1900-01-20 2019-09-11 43698 days\n",
      "729   14       1900-01-07 2019-09-05 1900-01-07 2019-09-05 43705 days\n",
      "3273  23       1900-01-05 2019-09-23 1900-01-05 2019-09-23 43725 days\n",
      "numero pazienti fine punto 3:  48955\n"
     ]
    }
   ],
   "source": [
    "groups_diagnosi_and_esami = df_diagnosi_and_esami.groupby([\"idana\", \"idcentro\"]).agg(\n",
    "    {\"data\": [\"min\", \"max\"]}\n",
    ")\n",
    "\n",
    "groups_diagnosi_and_esami[\"data_min\"] = groups_diagnosi_and_esami[\"data\"][\"min\"]\n",
    "groups_diagnosi_and_esami[\"data_max\"] = groups_diagnosi_and_esami[\"data\"][\"max\"]\n",
    "# print(groups_diagnosi_and_esami.head(30))\n",
    "print(\"groups_diagnosi_and_esami\")\n",
    "\n",
    "groups_diagnosi_and_esami[\"diff\"] = (\n",
    "    groups_diagnosi_and_esami[\"data_max\"] - groups_diagnosi_and_esami[\"data_min\"]\n",
    ")\n",
    "\n",
    "# print(groups_diagnosi_and_esami.head(30))\n",
    "print(\n",
    "    \"numero di pazienti con tutte le date in un unico giorno: \",\n",
    "    len(\n",
    "        groups_diagnosi_and_esami[\n",
    "            groups_diagnosi_and_esami[\"diff\"] == pd.Timedelta(\"0 days\")\n",
    "        ]\n",
    "    ),\n",
    ")\n",
    "print(\n",
    "    \"numero di pazienti con tutte le date in un unico mese: \",\n",
    "    len(\n",
    "        groups_diagnosi_and_esami[\n",
    "            groups_diagnosi_and_esami[\"diff\"] < pd.Timedelta(\"31 days\")\n",
    "        ]\n",
    "    ),\n",
    ")\n",
    "\n",
    "groups_diagnosi_and_esami = groups_diagnosi_and_esami[\n",
    "    groups_diagnosi_and_esami[\"diff\"] >= pd.Timedelta(\"31 days\")\n",
    "]\n",
    "groups_diagnosi_and_esami = groups_diagnosi_and_esami.sort_values(by=[\"diff\"])\n",
    "print(\"paziente traiettoria minima: \", groups_diagnosi_and_esami.head(2))\n",
    "print(\"paziente traiettoria massima: \", groups_diagnosi_and_esami.tail(4))\n",
    "print(\n",
    "    \"numero pazienti fine punto 3: \",\n",
    "    len(groups_diagnosi_and_esami),\n",
    ")"
   ]
  },
  {
   "cell_type": "code",
   "execution_count": 39,
   "metadata": {},
   "outputs": [
    {
     "name": "stdout",
     "output_type": "stream",
     "text": [
      "48955\n"
     ]
    }
   ],
   "source": [
    "groups_diagnosi_and_esami_keys = (\n",
    "    groups_diagnosi_and_esami.stack()\n",
    "    .reset_index()[[\"idana\", \"idcentro\"]]\n",
    "    .drop_duplicates()\n",
    ")\n",
    "\n",
    "print(len(groups_diagnosi_and_esami_keys))"
   ]
  },
  {
   "cell_type": "code",
   "execution_count": 40,
   "metadata": {},
   "outputs": [],
   "source": [
    "del groups_diagnosi_and_esami"
   ]
  },
  {
   "cell_type": "markdown",
   "metadata": {},
   "source": [
    "## Task 1.4"
   ]
  },
  {
   "cell_type": "code",
   "execution_count": 41,
   "metadata": {},
   "outputs": [
    {
     "name": "stdout",
     "output_type": "stream",
     "text": [
      "prima update: \n",
      "numero AMD004 minori di 40:  462\n",
      "numero AMD004 maggiori di 200:  967\n",
      "dopo update: \n",
      "numero AMD004 minori di 40 dopo filtro:  0\n",
      "numero AMD004 maggiori di 200 dopo filtro:  0\n"
     ]
    }
   ],
   "source": [
    "print(\"prima update: \")\n",
    "amd004 = df_esami_par[df_esami_par[\"codiceamd\"] == \"AMD004\"][\"valore\"]\n",
    "print(\"numero AMD004 minori di 40: \", len(amd004[amd004.astype(float) < 40]))\n",
    "print(\"numero AMD004 maggiori di 200: \", len(amd004[amd004.astype(float) > 200]))\n",
    "\n",
    "# df_esami_par_copy = df_esami_par.copy()\n",
    "mask = df_esami_par[\"codiceamd\"] == \"AMD004\"\n",
    "df_esami_par.loc[mask, \"valore\"] = df_esami_par.loc[mask, \"valore\"].clip(40, 200)\n",
    "# would like to use this single line but from documentation it seems that it can cause problems\n",
    "# so we must use this in two lines with a precomputation of a mask\n",
    "# df_esami_par[\"valore\"].update(\n",
    "#     df_esami_par[df_esami_par[\"codiceamd\"] == \"AMD004\"][\"valore\"].clip(40, 200)\n",
    "# )\n",
    "\n",
    "mask = df_esami_par[\"codiceamd\"] == \"AMD005\"\n",
    "df_esami_par.loc[mask, \"valore\"] = df_esami_par.loc[mask, \"valore\"].clip(40, 130)\n",
    "\n",
    "mask = df_esami_par[\"codiceamd\"] == \"AMD007\"\n",
    "df_esami_par.loc[mask, \"valore\"] = df_esami_par.loc[mask, \"valore\"].clip(50, 500)\n",
    "\n",
    "mask = df_esami_par[\"codiceamd\"] == \"AMD008\"\n",
    "df_esami_par.loc[mask, \"valore\"] = df_esami_par.loc[mask, \"valore\"].clip(5, 15)\n",
    "\n",
    "print(\"dopo update: \")\n",
    "amd004_dopo = df_esami_par[df_esami_par[\"codiceamd\"] == \"AMD004\"][\"valore\"]\n",
    "\n",
    "print(\"numero AMD004 minori di 40 dopo filtro: \", len(amd004_dopo[amd004_dopo < 40]))\n",
    "print(\n",
    "    \"numero AMD004 maggiori di 200 dopo filtro: \",\n",
    "    len(amd004_dopo[amd004_dopo.astype(float) > 200]),\n",
    ")"
   ]
  },
  {
   "cell_type": "code",
   "execution_count": 42,
   "metadata": {},
   "outputs": [
    {
     "name": "stdout",
     "output_type": "stream",
     "text": [
      "prima update: \n",
      "numero STITCH001 minori di 30:  4178\n",
      "numero STITCH001 maggiori di 300:  42\n",
      "dopo update: \n",
      "numero STITCH001 minori di 30 dopo filtro:  0\n",
      "numero STITCH001 maggiori di 300 dopo filtro:  0\n"
     ]
    }
   ],
   "source": [
    "print(\"prima update: \")\n",
    "\n",
    "stitch002 = df_esami_par_cal[df_esami_par_cal[\"codicestitch\"] == \"STITCH002\"][\"valore\"]\n",
    "print(\"numero STITCH001 minori di 30: \", len(stitch002[stitch002.astype(float) < 30]))\n",
    "print(\n",
    "    \"numero STITCH001 maggiori di 300: \", len(stitch002[stitch002.astype(float) > 300])\n",
    ")\n",
    "\n",
    "mask = df_esami_par_cal[\"codicestitch\"] == \"STITCH002\"\n",
    "df_esami_par_cal.loc[mask, \"valore\"] = df_esami_par_cal.loc[mask, \"valore\"].clip(\n",
    "    30, 300\n",
    ")\n",
    "\n",
    "mask = df_esami_par_cal[\"codicestitch\"] == \"STITCH003\"\n",
    "df_esami_par_cal.loc[mask, \"valore\"] = df_esami_par_cal.loc[mask, \"valore\"].clip(\n",
    "    60, 330\n",
    ")\n",
    "\n",
    "stitch002_dopo = df_esami_par_cal[df_esami_par_cal[\"codicestitch\"] == \"STITCH002\"][\n",
    "    \"valore\"\n",
    "]\n",
    "\n",
    "print(\"dopo update: \")\n",
    "print(\n",
    "    \"numero STITCH001 minori di 30 dopo filtro: \",\n",
    "    len(stitch002_dopo[stitch002_dopo < 30]),\n",
    ")\n",
    "print(\n",
    "    \"numero STITCH001 maggiori di 300 dopo filtro: \",\n",
    "    len(stitch002_dopo[stitch002_dopo.astype(float) > 300]),\n",
    ")"
   ]
  },
  {
   "cell_type": "markdown",
   "metadata": {},
   "source": [
    "## Task 1.5"
   ]
  },
  {
   "cell_type": "code",
   "execution_count": 43,
   "metadata": {},
   "outputs": [],
   "source": [
    "aa_prob_cuore_filtered_keys = (\n",
    "    aa_prob_cuore[[\"idana\", \"idcentro\"]]\n",
    "    .drop_duplicates()\n",
    "    .merge(\n",
    "        groups_diagnosi_and_esami_keys,\n",
    "        on=[\"idana\", \"idcentro\"],\n",
    "        how=\"inner\",\n",
    "    )\n",
    ")"
   ]
  },
  {
   "cell_type": "code",
   "execution_count": 44,
   "metadata": {},
   "outputs": [],
   "source": [
    "del groups_diagnosi_and_esami_keys"
   ]
  },
  {
   "cell_type": "code",
   "execution_count": 45,
   "metadata": {},
   "outputs": [
    {
     "name": "stdout",
     "output_type": "stream",
     "text": [
      "numero pazienti inizio punto 5:  48955\n",
      "df_diagnosi_and_esami merged\n"
     ]
    }
   ],
   "source": [
    "print(\n",
    "    \"numero pazienti inizio punto 5: \",\n",
    "    len(aa_prob_cuore_filtered_keys[[\"idana\", \"idcentro\"]].drop_duplicates()),\n",
    ")\n",
    "\n",
    "df_diagnosi_and_esami = df_diagnosi_and_esami.merge(\n",
    "    aa_prob_cuore_filtered_keys,\n",
    "    on=[\"idana\", \"idcentro\"],\n",
    "    how=\"inner\",\n",
    ")\n",
    "print(\"df_diagnosi_and_esami merged\")"
   ]
  },
  {
   "cell_type": "code",
   "execution_count": 46,
   "metadata": {},
   "outputs": [],
   "source": [
    "# TODO: a questo punto dato che per il punto 3 non abbiamo usato le prescrizioni, non dobbiamo usarle nemmeno qui le prescrizioni\n",
    "#  in quanto no ritengo che siano eventi significativi, quindi qui vanno rivisti i filtri\n",
    "\n",
    "# df_prescrizioni_diabete_farmaci = df_prescrizioni_diabete_farmaci.merge(\n",
    "#     aa_prob_cuore_filtered_keys,\n",
    "#     on=[\"idana\", \"idcentro\"],\n",
    "#     how=\"inner\",\n",
    "# )\n",
    "# print(\"df_prescrizioni_diabete_farmaci merged\")\n",
    "# df_prescirizioni_non_diabete = df_prescirizioni_non_diabete.merge(\n",
    "#     aa_prob_cuore_filtered_keys,\n",
    "#     on=[\"idana\", \"idcentro\"],\n",
    "#     how=\"inner\",\n",
    "# )\n",
    "# print(\"df_prescirizioni_non_diabete merged\")\n",
    "# df_prescrizioni_diabete_non_farmaci = df_prescrizioni_diabete_non_farmaci.merge(\n",
    "#     aa_prob_cuore_filtered_keys,\n",
    "#     on=[\"idana\", \"idcentro\"],\n",
    "#     how=\"inner\",\n",
    "# )\n",
    "# print(\"df_prescrizioni_diabete_non_farmaci merged\")\n",
    "\n",
    "# df_diagnosi_and_esami_and_prescrioni = pd.concat(\n",
    "#     objs=(\n",
    "#         idf.set_index([\"idana\", \"idcentro\"])\n",
    "#         for idf in [\n",
    "#             df_diagnosi_and_esami[[\"idcentro\", \"idana\", \"data\"]],\n",
    "#             df_prescrizioni_diabete_farmaci[[\"idcentro\", \"idana\", \"data\"]],\n",
    "#             df_prescirizioni_non_diabete[[\"idcentro\", \"idana\", \"data\"]],\n",
    "#             df_prescrizioni_diabete_non_farmaci[[\"idcentro\", \"idana\", \"data\"]],\n",
    "#         ]\n",
    "#     ),\n",
    "#     join=\"inner\",\n",
    "# ).reset_index()\n"
   ]
  },
  {
   "cell_type": "code",
   "execution_count": 47,
   "metadata": {},
   "outputs": [
    {
     "name": "stdout",
     "output_type": "stream",
     "text": [
      "df_diagnosi_and_esami_and_prescrioni concatenated\n",
      "paziente con minimo numero eventi        idana  idcentro  count\n",
      "34102   6954       111      2\n",
      "paziente con massimo numero eventi        idana  idcentro  count\n",
      "21393   3566       116   2516\n",
      "cont grouped\n"
     ]
    }
   ],
   "source": [
    "print(\"df_diagnosi_and_esami_and_prescrioni concatenated\")\n",
    "cont = (\n",
    "    # df_diagnosi_and_esami_and_prescrioni[[\"idana\", \"idcentro\"]]\n",
    "    df_diagnosi_and_esami[[\"idana\", \"idcentro\"]]\n",
    "    .groupby([\"idana\", \"idcentro\"])\n",
    "    .size()\n",
    "    .reset_index(name=\"count\")\n",
    ")\n",
    "\n",
    "print(\"paziente con minimo numero eventi\", cont.sort_values(by=[\"count\"]).head(1))\n",
    "print(\"paziente con massimo numero eventi\", cont.sort_values(by=[\"count\"]).tail(1))\n",
    "print(\"cont grouped\")\n",
    "cont_filtered = cont[cont[\"count\"] >= 2]\n",
    "\n",
    "select_all_events = df_diagnosi_and_esami.merge(\n",
    "    # df_diagnosi_and_esami_and_prescrioni.merge(\n",
    "    cont_filtered.reset_index()[[\"idana\", \"idcentro\"]],\n",
    "    on=[\"idana\", \"idcentro\"],\n",
    "    how=\"inner\",\n",
    ")"
   ]
  },
  {
   "cell_type": "code",
   "execution_count": 48,
   "metadata": {},
   "outputs": [],
   "source": [
    "last_event = select_all_events.groupby([\"idana\", \"idcentro\"], group_keys=True)[\n",
    "    \"data\"\n",
    "].max()"
   ]
  },
  {
   "cell_type": "code",
   "execution_count": 49,
   "metadata": {},
   "outputs": [
    {
     "name": "stdout",
     "output_type": "stream",
     "text": [
      "num pazienti in all_events:  48955\n",
      "df_problemi_cuore:  48955\n"
     ]
    }
   ],
   "source": [
    "print(\n",
    "    \"num pazienti in all_events: \",\n",
    "    len(select_all_events[[\"idana\", \"idcentro\"]].drop_duplicates()),\n",
    ")\n",
    "\n",
    "print(\n",
    "    \"df_problemi_cuore: \",\n",
    "    len(aa_prob_cuore_filtered_keys[[\"idana\", \"idcentro\"]].drop_duplicates()),\n",
    ")"
   ]
  },
  {
   "cell_type": "code",
   "execution_count": 50,
   "metadata": {},
   "outputs": [],
   "source": [
    "aa_prob_cuore_filtered = aa_prob_cuore_filtered_keys.merge(\n",
    "    aa_prob_cuore[[\"idana\", \"idcentro\", \"data\"]],\n",
    "    on=[\"idana\", \"idcentro\"],\n",
    "    how=\"inner\",\n",
    ")\n",
    "\n",
    "aa_prob_cuore_filtered[\"data\"] = pd.to_datetime(\n",
    "    aa_prob_cuore_filtered[\"data\"], format=\"%Y-%m-%d\"\n",
    ")\n",
    "\n",
    "last_problem = aa_prob_cuore_filtered.groupby([\"idana\", \"idcentro\"], group_keys=True)[\n",
    "    \"data\"\n",
    "].max()"
   ]
  },
  {
   "cell_type": "code",
   "execution_count": 51,
   "metadata": {},
   "outputs": [],
   "source": [
    "del (\n",
    "    aa_prob_cuore_filtered,\n",
    "    cont,\n",
    "    cont_filtered,\n",
    "    # df_diagnosi_and_esami_and_prescrioni,\n",
    "    aa_prob_cuore_filtered_keys,\n",
    "    df_diagnosi_and_esami,\n",
    ")"
   ]
  },
  {
   "cell_type": "code",
   "execution_count": 52,
   "metadata": {},
   "outputs": [],
   "source": [
    "\n",
    "wanted_patient = select_all_events.join(\n",
    "    (last_problem.ge(last_event - pd.DateOffset(months=6))).rename(\"label\"),\n",
    "    on=[\"idana\", \"idcentro\"],\n",
    ")"
   ]
  },
  {
   "cell_type": "code",
   "execution_count": 53,
   "metadata": {},
   "outputs": [],
   "source": [
    "del last_problem, select_all_events, last_event"
   ]
  },
  {
   "cell_type": "code",
   "execution_count": 54,
   "metadata": {},
   "outputs": [],
   "source": [
    "# TODO: delete wanted_patient with trajectory less than 6 months\n",
    "# I don't understand here someting fishy is going on because I see only 127 days of difference\n",
    "# between min and max date but the specification says 6 months\n",
    "wanted_patient_6_months = wanted_patient.groupby([\"idana\", \"idcentro\"]).agg(\n",
    "    {\"data\": [\"min\", \"max\"]}\n",
    ")"
   ]
  },
  {
   "cell_type": "code",
   "execution_count": 55,
   "metadata": {},
   "outputs": [
    {
     "name": "stdout",
     "output_type": "stream",
     "text": [
      "paziente traiettoria minima:                       data              data_min   data_max     diff\n",
      "                      min        max                               \n",
      "idana idcentro                                                     \n",
      "5078  61       2007-09-17 2008-03-18 2007-09-17 2008-03-18 183 days\n",
      "paziente traiettoria massima:                       data              data_min   data_max       diff\n",
      "                      min        max                                 \n",
      "idana idcentro                                                       \n",
      "3273  23       1900-01-05 2019-09-23 1900-01-05 2019-09-23 43725 days\n"
     ]
    }
   ],
   "source": [
    "wanted_patient_6_months[\"data_min\"] = wanted_patient_6_months[\"data\"][\"min\"]\n",
    "wanted_patient_6_months[\"data_max\"] = wanted_patient_6_months[\"data\"][\"max\"]\n",
    "\n",
    "wanted_patient_6_months[\"diff\"] = (\n",
    "    wanted_patient_6_months[\"data_max\"] - wanted_patient_6_months[\"data_min\"]\n",
    ")\n",
    "\n",
    "wanted_patient_6_months = wanted_patient_6_months[\n",
    "    wanted_patient_6_months[\"diff\"] >= pd.Timedelta(\"183 days\")\n",
    "]\n",
    "wanted_patient_6_months = wanted_patient_6_months.sort_values(by=[\"diff\"])\n",
    "print(\"paziente traiettoria minima: \", wanted_patient_6_months.head(1))\n",
    "print(\"paziente traiettoria massima: \", wanted_patient_6_months.tail(1))\n",
    "\n",
    "wanted_patient_6_months_keys = (\n",
    "    wanted_patient_6_months.stack()\n",
    "    .reset_index()[[\"idana\", \"idcentro\"]]\n",
    "    .drop_duplicates()\n",
    ")"
   ]
  },
  {
   "cell_type": "code",
   "execution_count": 56,
   "metadata": {},
   "outputs": [
    {
     "name": "stdout",
     "output_type": "stream",
     "text": [
      "RISULATI PUNTO 1.5\n",
      "pazienti fine punto 5:  47994\n",
      "True rows patients:  4056694\n",
      "False rows patients:  8237791\n",
      "True patients:  16290\n",
      "False patients:  31704\n"
     ]
    }
   ],
   "source": [
    "print(\"RISULATI PUNTO 1.5\")\n",
    "# print(wanted_patient[[\"idana\", \"idcentro\", \"data\", \"label\"]])\n",
    "wanted_patient = wanted_patient.merge(\n",
    "    wanted_patient_6_months_keys,\n",
    "    on=[\"idana\", \"idcentro\"],\n",
    "    how=\"inner\",\n",
    ")\n",
    "\n",
    "wanted_patient_keys = wanted_patient[[\"idana\", \"idcentro\"]].drop_duplicates()\n",
    "\n",
    "print(\n",
    "    \"pazienti fine punto 5: \",\n",
    "    len(wanted_patient_keys),\n",
    ")\n",
    "wanted_patient1 = wanted_patient[wanted_patient[\"label\"] == True]\n",
    "unwanted_patient = wanted_patient[wanted_patient[\"label\"] == False]\n",
    "# print(wanted_patient1)\n",
    "print(\"True rows patients: \", len(wanted_patient1))\n",
    "print(\"False rows patients: \", len(unwanted_patient))\n",
    "print(\"True patients: \", len(wanted_patient1[[\"idana\", \"idcentro\"]].drop_duplicates()))\n",
    "print(\n",
    "    \"False patients: \", len(unwanted_patient[[\"idana\", \"idcentro\"]].drop_duplicates())\n",
    ")"
   ]
  },
  {
   "cell_type": "markdown",
   "metadata": {},
   "source": [
    "## Task 1.6\n",
    "Some things for point 6 are done in point 2 and 3 to speed up computations\n"
   ]
  },
  {
   "cell_type": "code",
   "execution_count": 57,
   "metadata": {},
   "outputs": [
    {
     "name": "stdout",
     "output_type": "stream",
     "text": [
      "esami lab parametri: \n",
      "idcentro                  0\n",
      "idana                     0\n",
      "data                      0\n",
      "codiceamd                 0\n",
      "valore                30385\n",
      "annonascita               0\n",
      "annoprimoaccesso     800937\n",
      "annodecesso         6508443\n",
      "dtype: int64\n",
      "esami lab parametri calcolati: \n",
      "idcentro                  0\n",
      "idana                     0\n",
      "data                      0\n",
      "codiceamd            898091\n",
      "valore                    0\n",
      "codicestitch              0\n",
      "annonascita               0\n",
      "annoprimoaccesso     309337\n",
      "annodecesso         2441575\n",
      "dtype: int64\n",
      "codiceamd\n",
      "AMD013    345322\n",
      "AMD304    535549\n",
      "AMD927    974438\n",
      "dtype: int64\n",
      "codicestitch\n",
      "STITCH001    974438\n",
      "STITCH002    345322\n",
      "STITCH003    362542\n",
      "STITCH004    535549\n",
      "STITCH005    535549\n",
      "dtype: int64\n",
      "898091\n",
      "esami strumentali: \n",
      "idcentro                 0\n",
      "idana                    0\n",
      "data                     0\n",
      "codiceamd                0\n",
      "valore               21143\n",
      "annonascita              0\n",
      "annoprimoaccesso     21219\n",
      "annodecesso         261086\n",
      "dtype: int64\n",
      "codiceamd\n",
      "AMD034      597\n",
      "AMD035     1769\n",
      "AMD040    69530\n",
      "AMD041     9281\n",
      "AMD042     2796\n",
      "AMD043     3390\n",
      "AMD050    64476\n",
      "AMD051    13561\n",
      "AMD052     2608\n",
      "AMD079    16141\n",
      "AMD080     1481\n",
      "AMD116     6911\n",
      "AMD117      308\n",
      "AMD118    27053\n",
      "AMD125    55059\n",
      "AMD126    13125\n",
      "AMD132      635\n",
      "AMD135      228\n",
      "AMD137      120\n",
      "dtype: int64\n",
      "prescrizioni diabete farmaci: \n",
      "idcentro                    0\n",
      "idana                       0\n",
      "data                        0\n",
      "codiceatc                  38\n",
      "quantita                    0\n",
      "idpasto                     0\n",
      "descrizionefarmaco          0\n",
      "annonascita                 0\n",
      "annoprimoaccesso       244609\n",
      "annodecesso           1739587\n",
      "dtype: int64\n",
      "codiceatc\n",
      "A10AB01     39752\n",
      "A10AB04    226481\n",
      "A10AB05    198899\n",
      "A10AB06     89329\n",
      "A10AC01     11865\n",
      "            ...  \n",
      "A10BX07       197\n",
      "A10BX09       110\n",
      "A10BX10         8\n",
      "A10BX11        12\n",
      "A10BX12       229\n",
      "Length: 61, dtype: int64\n",
      "codiceamd\n",
      "AMD086    50909\n",
      "AMD090    20464\n",
      "AMD096       32\n",
      "AMD152    72228\n",
      "AMD228     5661\n",
      "dtype: int64\n",
      "prescrizioni diabete non farmaci: \n",
      "idcentro                 0\n",
      "idana                    0\n",
      "data                     0\n",
      "codiceamd                0\n",
      "valore               14534\n",
      "annonascita              0\n",
      "annoprimoaccesso     14313\n",
      "annodecesso         129579\n",
      "dtype: int64\n",
      "codiceamd\n",
      "AMD086    50909\n",
      "AMD090    20464\n",
      "AMD096       32\n",
      "AMD152    72228\n",
      "AMD228     5661\n",
      "dtype: int64\n",
      "prescrizioni non diabete: \n",
      "idcentro                  0\n",
      "idana                     0\n",
      "data                      0\n",
      "codiceamd                 0\n",
      "valore                    0\n",
      "annonascita               0\n",
      "annoprimoaccesso     236118\n",
      "annodecesso         1743238\n",
      "dtype: int64\n",
      "   idana  idcentro       data  label\n",
      "0      5         1 1980-01-01   True\n",
      "1      5         1 1986-01-01   True\n",
      "2      5         1 1987-01-01   True\n",
      "3      5         1 1987-01-01   True\n",
      "4      5         1 1997-12-01   True\n"
     ]
    }
   ],
   "source": [
    "print(\"############## POINT 6 START ##############\")\n",
    "\n",
    "# TODO: controllare anagrafica e diagnosi\n",
    "print(\"patients labels: \")\n",
    "print(wanted_patient.isna().sum())\n",
    "# qui ci sono 456 righe con data a nan\n",
    "\n",
    "print(\"anagrafica: \")\n",
    "df_anagrafica_attivi = df_anagrafica_attivi.merge(\n",
    "    wanted_patient_keys, on=[\"idana\", \"idcentro\"], how=\"inner\"\n",
    ")\n",
    "print(df_anagrafica_attivi.isna().sum())\n",
    "\n",
    "print(\"diagnosi: \")\n",
    "df_diagnosi = df_diagnosi.merge(\n",
    "    wanted_patient_keys, on=[\"idana\", \"idcentro\"], how=\"inner\"\n",
    ")\n",
    "print(df_diagnosi.isna().sum())\n",
    "# qui ci sono 456 righe con data a nan\n",
    "# qui ci sono 33k righe con valore a nan\n",
    "\n",
    "df_esami_par = df_esami_par.merge(\n",
    "    wanted_patient_keys, on=[\"idana\", \"idcentro\"], how=\"inner\"\n",
    ")\n",
    "\n",
    "print(\"esami lab parametri: \")\n",
    "print(df_esami_par.isna().sum())\n",
    "# qui ci sono 30k righe con valore a nan\n",
    "# e 800k righe con anno primo accesso nan\n",
    "\n",
    "df_esami_par_cal = df_esami_par_cal.merge(\n",
    "    wanted_patient_keys, on=[\"idana\", \"idcentro\"], how=\"inner\"\n",
    ")\n",
    "print(\"esami lab parametri calcolati: \")\n",
    "print(df_esami_par_cal.isna().sum())\n",
    "# qui ci sono 900k righe con codice amd nan\n",
    "# e 300k righe con anno primo accesso nan\n",
    "\n",
    "print(df_esami_par_cal.groupby([\"codiceamd\"]).size())\n",
    "print(df_esami_par_cal.groupby([\"codicestitch\"]).size())\n",
    "print(\n",
    "    df_esami_par_cal[df_esami_par_cal[\"codiceamd\"].isna()][\"codicestitch\"]\n",
    "    .isin([\"STITCH003\", \"STITCH004\"])\n",
    "    .sum()\n",
    ")\n",
    "\n",
    "df_esami_stru = df_esami_stru.merge(\n",
    "    wanted_patient_keys, on=[\"idana\", \"idcentro\"], how=\"inner\"\n",
    ")\n",
    "print(\"esami strumentali: \")\n",
    "print(df_esami_stru.isna().sum())\n",
    "# qui ci sono 20k righe con valore a nan\n",
    "# e 20k righe con anno primo accesso nan\n",
    "\n",
    "print(df_esami_stru.groupby([\"codiceamd\"]).size())\n",
    "# alcuni codici amd sono presenti in proporzioni molto maggiori rispetto ad altri\n",
    "\n",
    "print(\"prescrizioni diabete farmaci: \")\n",
    "df_prescrizioni_diabete_farmaci = df_prescrizioni_diabete_farmaci.merge(\n",
    "    wanted_patient_keys, on=[\"idana\", \"idcentro\"], how=\"inner\"\n",
    ")\n",
    "print(df_prescrizioni_diabete_farmaci.isna().sum())\n",
    "# qui ci sono 38 righe con codice atc nan da gestire\n",
    "# e 250k righe con anno primo accesso nan\n",
    "print(df_prescrizioni_diabete_farmaci.groupby([\"codiceatc\"]).size())\n",
    "\n",
    "df_prescrizioni_diabete_non_farmaci = df_prescrizioni_diabete_non_farmaci.merge(\n",
    "    wanted_patient_keys, on=[\"idana\", \"idcentro\"], how=\"inner\"\n",
    ")\n",
    "\n",
    "print(df_prescrizioni_diabete_non_farmaci.groupby([\"codiceamd\"]).size())\n",
    "# qui abbiamo un codice amd096 che è presente in sole 32 righe e quindi completamente\n",
    "# sbilanciato rispetto agli altri codici amd presenti in grandi quantità, quindi lo scarterei\n",
    "# poi due codici amd086 e amd152 riportano la stessa descrizione e quindi li unirei in un unico codice,\n",
    "# l'unico problema è che a quel punto la maggioranza dei codici sarebbero l'unione di questo 120k\n",
    "# e i rimanenti 25k sarebbero altri due codici, quindi non so se sia il caso di unirli\n",
    "print(\"prescrizioni diabete non farmaci: \")\n",
    "print(df_prescrizioni_diabete_non_farmaci.isna().sum())\n",
    "# qui ci sono 15k righe con valore nan\n",
    "# e 15k righe con anno primo accesso nan\n",
    "print(df_prescrizioni_diabete_non_farmaci.groupby([\"codiceamd\"]).size())\n",
    "\n",
    "df_prescirizioni_non_diabete = df_prescirizioni_non_diabete.merge(\n",
    "    wanted_patient_keys, on=[\"idana\", \"idcentro\"], how=\"inner\"\n",
    ")\n",
    "print(\"prescrizioni non diabete: \")\n",
    "print(\"no nan\")\n",
    "#print(df_prescirizioni_non_diabete.isna().sum())\n",
    "# qui ci sono 250k righe con anno primo accesso nan"
   ]
  },
  {
   "cell_type": "code",
   "execution_count": null,
   "metadata": {},
   "outputs": [],
   "source": [
    "print(wanted_patient.head())"
   ]
  },
  {
   "cell_type": "code",
   "execution_count": 58,
   "metadata": {},
   "outputs": [
    {
     "data": {
      "text/html": [
       "<div>\n",
       "<style scoped>\n",
       "    .dataframe tbody tr th:only-of-type {\n",
       "        vertical-align: middle;\n",
       "    }\n",
       "\n",
       "    .dataframe tbody tr th {\n",
       "        vertical-align: top;\n",
       "    }\n",
       "\n",
       "    .dataframe thead th {\n",
       "        text-align: right;\n",
       "    }\n",
       "</style>\n",
       "<table border=\"1\" class=\"dataframe\">\n",
       "  <thead>\n",
       "    <tr style=\"text-align: right;\">\n",
       "      <th></th>\n",
       "      <th>idcentro</th>\n",
       "      <th>idana</th>\n",
       "      <th>sesso</th>\n",
       "      <th>annodiagnosidiabete</th>\n",
       "      <th>scolarita</th>\n",
       "      <th>statocivile</th>\n",
       "      <th>professione</th>\n",
       "      <th>origine</th>\n",
       "      <th>annonascita</th>\n",
       "      <th>annoprimoaccesso</th>\n",
       "      <th>annodecesso</th>\n",
       "      <th>data</th>\n",
       "      <th>codiceamd</th>\n",
       "      <th>valore</th>\n",
       "    </tr>\n",
       "  </thead>\n",
       "  <tbody>\n",
       "    <tr>\n",
       "      <th>0</th>\n",
       "      <td>100</td>\n",
       "      <td>3080</td>\n",
       "      <td>M</td>\n",
       "      <td>1988-01-01</td>\n",
       "      <td>NaN</td>\n",
       "      <td>NaN</td>\n",
       "      <td>NaN</td>\n",
       "      <td>NaN</td>\n",
       "      <td>1936-01-01</td>\n",
       "      <td>1991-01-01</td>\n",
       "      <td>NaT</td>\n",
       "      <td>2005-02-21</td>\n",
       "      <td>AMD049</td>\n",
       "      <td>S</td>\n",
       "    </tr>\n",
       "    <tr>\n",
       "      <th>1</th>\n",
       "      <td>100</td>\n",
       "      <td>3080</td>\n",
       "      <td>M</td>\n",
       "      <td>1988-01-01</td>\n",
       "      <td>NaN</td>\n",
       "      <td>NaN</td>\n",
       "      <td>NaN</td>\n",
       "      <td>NaN</td>\n",
       "      <td>1936-01-01</td>\n",
       "      <td>1991-01-01</td>\n",
       "      <td>NaT</td>\n",
       "      <td>2007-09-12</td>\n",
       "      <td>AMD049</td>\n",
       "      <td>S</td>\n",
       "    </tr>\n",
       "    <tr>\n",
       "      <th>2</th>\n",
       "      <td>100</td>\n",
       "      <td>3080</td>\n",
       "      <td>M</td>\n",
       "      <td>1988-01-01</td>\n",
       "      <td>NaN</td>\n",
       "      <td>NaN</td>\n",
       "      <td>NaN</td>\n",
       "      <td>NaN</td>\n",
       "      <td>1936-01-01</td>\n",
       "      <td>1991-01-01</td>\n",
       "      <td>NaT</td>\n",
       "      <td>2008-04-03</td>\n",
       "      <td>AMD049</td>\n",
       "      <td>S</td>\n",
       "    </tr>\n",
       "    <tr>\n",
       "      <th>3</th>\n",
       "      <td>100</td>\n",
       "      <td>3080</td>\n",
       "      <td>M</td>\n",
       "      <td>1988-01-01</td>\n",
       "      <td>NaN</td>\n",
       "      <td>NaN</td>\n",
       "      <td>NaN</td>\n",
       "      <td>NaN</td>\n",
       "      <td>1936-01-01</td>\n",
       "      <td>1991-01-01</td>\n",
       "      <td>NaT</td>\n",
       "      <td>2009-03-20</td>\n",
       "      <td>AMD049</td>\n",
       "      <td>S</td>\n",
       "    </tr>\n",
       "    <tr>\n",
       "      <th>4</th>\n",
       "      <td>100</td>\n",
       "      <td>3080</td>\n",
       "      <td>M</td>\n",
       "      <td>1988-01-01</td>\n",
       "      <td>NaN</td>\n",
       "      <td>NaN</td>\n",
       "      <td>NaN</td>\n",
       "      <td>NaN</td>\n",
       "      <td>1936-01-01</td>\n",
       "      <td>1991-01-01</td>\n",
       "      <td>NaT</td>\n",
       "      <td>2015-09-08</td>\n",
       "      <td>AMD049</td>\n",
       "      <td>S</td>\n",
       "    </tr>\n",
       "  </tbody>\n",
       "</table>\n",
       "</div>"
      ],
      "text/plain": [
       "   idcentro  idana sesso annodiagnosidiabete  scolarita  statocivile  \\\n",
       "0       100   3080     M          1988-01-01        NaN          NaN   \n",
       "1       100   3080     M          1988-01-01        NaN          NaN   \n",
       "2       100   3080     M          1988-01-01        NaN          NaN   \n",
       "3       100   3080     M          1988-01-01        NaN          NaN   \n",
       "4       100   3080     M          1988-01-01        NaN          NaN   \n",
       "\n",
       "   professione  origine annonascita annoprimoaccesso annodecesso        data  \\\n",
       "0          NaN      NaN  1936-01-01       1991-01-01         NaT  2005-02-21   \n",
       "1          NaN      NaN  1936-01-01       1991-01-01         NaT  2007-09-12   \n",
       "2          NaN      NaN  1936-01-01       1991-01-01         NaT  2008-04-03   \n",
       "3          NaN      NaN  1936-01-01       1991-01-01         NaT  2009-03-20   \n",
       "4          NaN      NaN  1936-01-01       1991-01-01         NaT  2015-09-08   \n",
       "\n",
       "  codiceamd valore  \n",
       "0    AMD049      S  \n",
       "1    AMD049      S  \n",
       "2    AMD049      S  \n",
       "3    AMD049      S  \n",
       "4    AMD049      S  "
      ]
     },
     "execution_count": 58,
     "metadata": {},
     "output_type": "execute_result"
    }
   ],
   "source": [
    "aa_prob_cuore.head()\n"
   ]
  },
  {
   "cell_type": "code",
   "execution_count": 59,
   "metadata": {},
   "outputs": [
    {
     "data": {
      "text/plain": [
       "idcentro                    0\n",
       "idana                       0\n",
       "sesso                       0\n",
       "annodiagnosidiabete         0\n",
       "scolarita              150368\n",
       "statocivile            106383\n",
       "professione            110947\n",
       "origine                229770\n",
       "annonascita                 0\n",
       "annoprimoaccesso        25132\n",
       "annodecesso            207224\n",
       "data                        0\n",
       "codiceamd                   0\n",
       "valore                      0\n",
       "dtype: int64"
      ]
     },
     "execution_count": 59,
     "metadata": {},
     "output_type": "execute_result"
    }
   ],
   "source": [
    "aa_prob_cuore.isna().sum()\n",
    "\n",
    "# We have a low of nan values in the colums scolarita statocivile, professione and expecially origine (maybe we can drop them)"
   ]
  },
  {
   "cell_type": "code",
   "execution_count": 60,
   "metadata": {},
   "outputs": [
    {
     "data": {
      "text/html": [
       "<div>\n",
       "<style scoped>\n",
       "    .dataframe tbody tr th:only-of-type {\n",
       "        vertical-align: middle;\n",
       "    }\n",
       "\n",
       "    .dataframe tbody tr th {\n",
       "        vertical-align: top;\n",
       "    }\n",
       "\n",
       "    .dataframe thead th {\n",
       "        text-align: right;\n",
       "    }\n",
       "</style>\n",
       "<table border=\"1\" class=\"dataframe\">\n",
       "  <thead>\n",
       "    <tr style=\"text-align: right;\">\n",
       "      <th></th>\n",
       "      <th>idcentro</th>\n",
       "      <th>idana</th>\n",
       "      <th>scolarita</th>\n",
       "      <th>statocivile</th>\n",
       "      <th>professione</th>\n",
       "      <th>origine</th>\n",
       "    </tr>\n",
       "  </thead>\n",
       "  <tbody>\n",
       "    <tr>\n",
       "      <th>count</th>\n",
       "      <td>232713.000000</td>\n",
       "      <td>2.327130e+05</td>\n",
       "      <td>82345.000000</td>\n",
       "      <td>126330.000000</td>\n",
       "      <td>121766.000000</td>\n",
       "      <td>2943.000000</td>\n",
       "    </tr>\n",
       "    <tr>\n",
       "      <th>mean</th>\n",
       "      <td>111.880750</td>\n",
       "      <td>5.401526e+03</td>\n",
       "      <td>2.194681</td>\n",
       "      <td>2.126455</td>\n",
       "      <td>7.400202</td>\n",
       "      <td>1.074074</td>\n",
       "    </tr>\n",
       "    <tr>\n",
       "      <th>std</th>\n",
       "      <td>70.189405</td>\n",
       "      <td>1.960398e+04</td>\n",
       "      <td>0.546911</td>\n",
       "      <td>0.553518</td>\n",
       "      <td>2.804705</td>\n",
       "      <td>0.416294</td>\n",
       "    </tr>\n",
       "    <tr>\n",
       "      <th>min</th>\n",
       "      <td>1.000000</td>\n",
       "      <td>1.000000e+00</td>\n",
       "      <td>1.000000</td>\n",
       "      <td>1.000000</td>\n",
       "      <td>1.000000</td>\n",
       "      <td>1.000000</td>\n",
       "    </tr>\n",
       "    <tr>\n",
       "      <th>25%</th>\n",
       "      <td>60.000000</td>\n",
       "      <td>1.652000e+03</td>\n",
       "      <td>2.000000</td>\n",
       "      <td>2.000000</td>\n",
       "      <td>7.000000</td>\n",
       "      <td>1.000000</td>\n",
       "    </tr>\n",
       "    <tr>\n",
       "      <th>50%</th>\n",
       "      <td>111.000000</td>\n",
       "      <td>3.829000e+03</td>\n",
       "      <td>2.000000</td>\n",
       "      <td>2.000000</td>\n",
       "      <td>9.000000</td>\n",
       "      <td>1.000000</td>\n",
       "    </tr>\n",
       "    <tr>\n",
       "      <th>75%</th>\n",
       "      <td>163.000000</td>\n",
       "      <td>7.360000e+03</td>\n",
       "      <td>2.000000</td>\n",
       "      <td>2.000000</td>\n",
       "      <td>9.000000</td>\n",
       "      <td>1.000000</td>\n",
       "    </tr>\n",
       "    <tr>\n",
       "      <th>max</th>\n",
       "      <td>500.000000</td>\n",
       "      <td>8.692111e+06</td>\n",
       "      <td>5.000000</td>\n",
       "      <td>6.000000</td>\n",
       "      <td>10.000000</td>\n",
       "      <td>5.000000</td>\n",
       "    </tr>\n",
       "  </tbody>\n",
       "</table>\n",
       "</div>"
      ],
      "text/plain": [
       "            idcentro         idana     scolarita    statocivile  \\\n",
       "count  232713.000000  2.327130e+05  82345.000000  126330.000000   \n",
       "mean      111.880750  5.401526e+03      2.194681       2.126455   \n",
       "std        70.189405  1.960398e+04      0.546911       0.553518   \n",
       "min         1.000000  1.000000e+00      1.000000       1.000000   \n",
       "25%        60.000000  1.652000e+03      2.000000       2.000000   \n",
       "50%       111.000000  3.829000e+03      2.000000       2.000000   \n",
       "75%       163.000000  7.360000e+03      2.000000       2.000000   \n",
       "max       500.000000  8.692111e+06      5.000000       6.000000   \n",
       "\n",
       "         professione      origine  \n",
       "count  121766.000000  2943.000000  \n",
       "mean        7.400202     1.074074  \n",
       "std         2.804705     0.416294  \n",
       "min         1.000000     1.000000  \n",
       "25%         7.000000     1.000000  \n",
       "50%         9.000000     1.000000  \n",
       "75%         9.000000     1.000000  \n",
       "max        10.000000     5.000000  "
      ]
     },
     "execution_count": 60,
     "metadata": {},
     "output_type": "execute_result"
    }
   ],
   "source": [
    "aa_prob_cuore.describe()"
   ]
  },
  {
   "cell_type": "markdown",
   "metadata": {},
   "source": [
    "Show the multiplicity of values in aa_prob_cuore (from anagraficapazientiattivi.csv) of scolarita, statocivile, professione and origine"
   ]
  },
  {
   "cell_type": "code",
   "execution_count": 61,
   "metadata": {},
   "outputs": [
    {
     "data": {
      "text/plain": [
       "2.0    63229\n",
       "3.0    13260\n",
       "1.0     2981\n",
       "4.0     2873\n",
       "5.0        2\n",
       "Name: scolarita, dtype: int64"
      ]
     },
     "execution_count": 61,
     "metadata": {},
     "output_type": "execute_result"
    }
   ],
   "source": [
    "aa_prob_cuore.scolarita.value_counts()"
   ]
  },
  {
   "cell_type": "code",
   "execution_count": 62,
   "metadata": {},
   "outputs": [
    {
     "data": {
      "text/plain": [
       "2.0    99833\n",
       "3.0    14129\n",
       "1.0     7631\n",
       "4.0     4735\n",
       "5.0        1\n",
       "6.0        1\n",
       "Name: statocivile, dtype: int64"
      ]
     },
     "execution_count": 62,
     "metadata": {},
     "output_type": "execute_result"
    }
   ],
   "source": [
    "#aa_prob_cuore.statocivile.value_counts()"
   ]
  },
  {
   "cell_type": "code",
   "execution_count": 63,
   "metadata": {},
   "outputs": [
    {
     "data": {
      "text/plain": [
       "9.0     78980\n",
       "4.0      9178\n",
       "1.0      8999\n",
       "7.0      6254\n",
       "2.0      6219\n",
       "10.0     5422\n",
       "3.0      2915\n",
       "6.0      2429\n",
       "8.0      1319\n",
       "5.0        51\n",
       "Name: professione, dtype: int64"
      ]
     },
     "execution_count": 63,
     "metadata": {},
     "output_type": "execute_result"
    }
   ],
   "source": [
    "#aa_prob_cuore.professione.value_counts()"
   ]
  },
  {
   "cell_type": "code",
   "execution_count": 64,
   "metadata": {},
   "outputs": [
    {
     "data": {
      "text/plain": [
       "1.0    2843\n",
       "3.0      82\n",
       "5.0      12\n",
       "2.0       6\n",
       "Name: origine, dtype: int64"
      ]
     },
     "execution_count": 64,
     "metadata": {},
     "output_type": "execute_result"
    }
   ],
   "source": [
    "aa_prob_cuore.origine.value_counts()"
   ]
  },
  {
   "cell_type": "code",
   "execution_count": 67,
   "metadata": {},
   "outputs": [
    {
     "data": {
      "text/html": [
       "<div>\n",
       "<style scoped>\n",
       "    .dataframe tbody tr th:only-of-type {\n",
       "        vertical-align: middle;\n",
       "    }\n",
       "\n",
       "    .dataframe tbody tr th {\n",
       "        vertical-align: top;\n",
       "    }\n",
       "\n",
       "    .dataframe thead th {\n",
       "        text-align: right;\n",
       "    }\n",
       "</style>\n",
       "<table border=\"1\" class=\"dataframe\">\n",
       "  <thead>\n",
       "    <tr style=\"text-align: right;\">\n",
       "      <th></th>\n",
       "      <th>idcentro</th>\n",
       "      <th>idana</th>\n",
       "    </tr>\n",
       "  </thead>\n",
       "  <tbody>\n",
       "    <tr>\n",
       "      <th>count</th>\n",
       "      <td>232713.000000</td>\n",
       "      <td>2.327130e+05</td>\n",
       "    </tr>\n",
       "    <tr>\n",
       "      <th>mean</th>\n",
       "      <td>111.880750</td>\n",
       "      <td>5.401526e+03</td>\n",
       "    </tr>\n",
       "    <tr>\n",
       "      <th>std</th>\n",
       "      <td>70.189405</td>\n",
       "      <td>1.960398e+04</td>\n",
       "    </tr>\n",
       "    <tr>\n",
       "      <th>min</th>\n",
       "      <td>1.000000</td>\n",
       "      <td>1.000000e+00</td>\n",
       "    </tr>\n",
       "    <tr>\n",
       "      <th>25%</th>\n",
       "      <td>60.000000</td>\n",
       "      <td>1.652000e+03</td>\n",
       "    </tr>\n",
       "    <tr>\n",
       "      <th>50%</th>\n",
       "      <td>111.000000</td>\n",
       "      <td>3.829000e+03</td>\n",
       "    </tr>\n",
       "    <tr>\n",
       "      <th>75%</th>\n",
       "      <td>163.000000</td>\n",
       "      <td>7.360000e+03</td>\n",
       "    </tr>\n",
       "    <tr>\n",
       "      <th>max</th>\n",
       "      <td>500.000000</td>\n",
       "      <td>8.692111e+06</td>\n",
       "    </tr>\n",
       "  </tbody>\n",
       "</table>\n",
       "</div>"
      ],
      "text/plain": [
       "            idcentro         idana\n",
       "count  232713.000000  2.327130e+05\n",
       "mean      111.880750  5.401526e+03\n",
       "std        70.189405  1.960398e+04\n",
       "min         1.000000  1.000000e+00\n",
       "25%        60.000000  1.652000e+03\n",
       "50%       111.000000  3.829000e+03\n",
       "75%       163.000000  7.360000e+03\n",
       "max       500.000000  8.692111e+06"
      ]
     },
     "execution_count": 67,
     "metadata": {},
     "output_type": "execute_result"
    }
   ],
   "source": [
    "aa_prob_cuore.drop(columns=['scolarita', 'statocivile', 'professione', 'origine'], inplace=True)\n",
    "\n",
    "aa_prob_cuore.describe()"
   ]
  }
 ],
 "metadata": {
  "kernelspec": {
   "display_name": "Python 3",
   "language": "python",
   "name": "python3"
  },
  "language_info": {
   "codemirror_mode": {
    "name": "ipython",
    "version": 3
   },
   "file_extension": ".py",
   "mimetype": "text/x-python",
   "name": "python",
   "nbconvert_exporter": "python",
   "pygments_lexer": "ipython3",
   "version": "3.9.0"
  },
  "orig_nbformat": 4
 },
 "nbformat": 4,
 "nbformat_minor": 2
}
