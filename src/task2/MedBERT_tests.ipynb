{
 "cells": [
  {
   "cell_type": "code",
   "execution_count": 1,
   "metadata": {},
   "outputs": [
    {
     "name": "stderr",
     "output_type": "stream",
     "text": [
      "/home/ant/miniconda3/envs/ml/lib/python3.11/site-packages/tqdm/auto.py:21: TqdmWarning: IProgress not found. Please update jupyter and ipywidgets. See https://ipywidgets.readthedocs.io/en/stable/user_install.html\n",
      "  from .autonotebook import tqdm as notebook_tqdm\n"
     ]
    }
   ],
   "source": [
    "import pickle\n",
    "import numpy as np\n",
    "from pytorch_lightning import (\n",
    "    LightningDataModule,\n",
    "    LightningModule,\n",
    "    Trainer,\n",
    "    seed_everything,\n",
    ")\n",
    "import torch\n",
    "\n",
    "from torch.utils.data import DataLoader\n",
    "from transformers import (\n",
    "    AdamW,\n",
    "    AutoConfig,\n",
    "    AutoModelForSequenceClassification,\n",
    "    AutoTokenizer,\n",
    "    get_linear_schedule_with_warmup,\n",
    ")\n",
    "\n",
    "import datasets\n",
    "from typing import Optional\n",
    "from datetime import datetime\n",
    "\n",
    "# import evaluate\n",
    "from torchmetrics.classification import BinaryAccuracy"
   ]
  },
  {
   "cell_type": "code",
   "execution_count": 2,
   "metadata": {},
   "outputs": [
    {
     "name": "stderr",
     "output_type": "stream",
     "text": [
      "Global seed set to 0\n"
     ]
    }
   ],
   "source": [
    "SEED = 0\n",
    "rng = np.random.default_rng(SEED)\n",
    "GEN_SEED = torch.Generator().manual_seed(SEED)\n",
    "seed_everything(SEED)\n",
    "MODEL_NAME = \"microsoft/BiomedNLP-PubMedBERT-base-uncased-abstract-fulltext\""
   ]
  },
  {
   "cell_type": "code",
   "execution_count": 3,
   "metadata": {},
   "outputs": [
    {
     "name": "stdout",
     "output_type": "stream",
     "text": [
      "loaded dataset\n",
      "dataset:  77998\n",
      "[('patientregistry: idcenter=100, idpatient=3080, sex=M, yeardiagnosisdiabetes=1988-01-01, levelofeducation=[UNK], maritalstatus=[UNK], profession=[UNK], yearofbirth=1936-01-01 00:00:00, yearfirstaccess=1991-01-01 00:00:00, yearofdeath=[UNK], diagnosis: idcenter=100, idpatient=3080, date=1991-10-29 00:00:00, amdcode=AMD097, meaning=Cigarette smoke, value=N, idcenter=100, idpatient=3080, date=2004-02-04 00:00:00, amdcode=AMD044, meaning=Ischemic heart disease, value=414, idcenter=100, idpatient=3080, date=2004-02-04 00:00:00, amdcode=AMD247, meaning=Other comorbidities, value=414.9, idcenter=100, idpatient=3080, date=2004-07-21 00:00:00, amdcode=AMD130, meaning=Non diabetic retinopathy, value=[UNK], idcenter=100, idpatient=3080, date=2005-02-21 00:00:00, amdcode=AMD049, meaning=Coronary bypass, value=S, idcenter=100, idpatient=3080, date=2005-02-21 00:00:00, amdcode=AMD247, meaning=Other comorbidities, value=36.10, idcenter=100, idpatient=3080, date=2005-02-21 00:00:00, amdcode=AMD247, meaning=Other comorbidities, value=414.9, idcenter=100, idpatient=3080, date=2005-02-21 00:00:00, amdcode=AMD044, meaning=Ischemic heart disease, value=414, idcenter=100, idpatient=3080, date=2005-09-22 00:00:00, amdcode=AMD130, meaning=Non diabetic retinopathy, value=S, idcenter=100, idpatient=3080, date=2005-09-22 00:00:00, amdcode=AMD247, meaning=Other comorbidities, value=414.9, idcenter=100, idpatient=3080, date=2005-09-22 00:00:00, amdcode=AMD044, meaning=Ischemic heart disease, value=414, idcenter=100, idpatient=3080, date=2007-04-13 00:00:00, amdcode=AMD044, meaning=Ischemic heart disease, value=414, idcenter=100, idpatient=3080, date=2007-04-13 00:00:00, amdcode=AMD247, meaning=Other comorbidities, value=414.9, idcenter=100, idpatient=3080, date=2007-04-13 00:00:00, amdcode=AMD130, meaning=Non diabetic retinopathy, value=S, idcenter=100, idpatient=3080, date=2007-09-12 00:00:00, amdcode=AMD247, meaning=Other comorbidities, value=414.9, idcenter=100, idpatient=3080, date=2007-09-12 00:00:00, amdcode=AMD302, meaning=Not diabetic nephropathy, value=S, idcenter=100, idpatient=3080, date=2007-09-12 00:00:00, amdcode=AMD044, meaning=Ischemic heart disease, value=414, idcenter=100, idpatient=3080, date=2007-09-12 00:00:00, amdcode=AMD130, meaning=Non diabetic retinopathy, value=S, idcenter=100, idpatient=3080, date=2007-09-12 00:00:00, amdcode=AMD247, meaning=Other comorbidities, value=36.10, idcenter=100, idpatient=3080, date=2007-09-12 00:00:00, amdcode=AMD049, meaning=Coronary bypass, value=S, idcenter=100, idpatient=3080, date=2008-04-03 00:00:00, amdcode=AMD049, meaning=Coronary bypass, value=S, idcenter=100, idpatient=3080, date=2008-04-03 00:00:00, amdcode=AMD247, meaning=Other comorbidities, value=414.9, idcenter=100, idpatient=3080, date=2008-04-03 00:00:00, amdcode=AMD247, meaning=Other comorbidities, value=36.10, idcenter=100, idpatient=3080, date=2008-04-03 00:00:00, amdcode=AMD130, meaning=Non diabetic retinopathy, value=S, idcenter=100, idpatient=3080, date=2008-04-03 00:00:00, amdcode=AMD129, meaning=Absent diabetic neuropathy, value=S, idcenter=100, idpatient=3080, date=2008-04-03 00:00:00, amdcode=AMD044, meaning=Ischemic heart disease, value=414, idcenter=100, idpatient=3080, date=2009-03-20 00:00:00, amdcode=AMD247, meaning=Other comorbidities, value=36.10, idcenter=100, idpatient=3080, date=2009-03-20 00:00:00, amdcode=AMD247, meaning=Other comorbidities, value=414.9, idcenter=100, idpatient=3080, date=2009-03-20 00:00:00, amdcode=AMD049, meaning=Coronary bypass, value=S, idcenter=100, idpatient=3080, date=2009-03-20 00:00:00, amdcode=AMD044, meaning=Ischemic heart disease, value=414, idcenter=100, idpatient=3080, date=2011-02-07 00:00:00, amdcode=AMD130, meaning=Non diabetic retinopathy, value=S, idcenter=100, idpatient=3080, date=2013-03-05 00:00:00, amdcode=AMD130, meaning=Non diabetic retinopathy, value=S, exam parameter: idcenter=100, idpatient=3080, date=2005-02-21 00:00:00, amdcode=AMD001, meaning=Height, value=167.0, idcenter=100, idpatient=3080, date=2005-02-21 00:00:00, amdcode=AMD002, meaning=Weight, value=74.3, idcenter=100, idpatient=3080, date=2005-02-21 00:00:00, amdcode=AMD004, meaning=PAS systolic, value=110.0, idcenter=100, idpatient=3080, date=2005-02-21 00:00:00, amdcode=AMD005, meaning=PAD diastolic, value=80.0, idcenter=100, idpatient=3080, date=2005-02-21 00:00:00, amdcode=AMD008, meaning=HbA1c, value=6.9, idcenter=100, idpatient=3080, date=2005-09-22 00:00:00, amdcode=AMD001, meaning=Height, value=167.0, idcenter=100, idpatient=3080, date=2005-09-22 00:00:00, amdcode=AMD002, meaning=Weight, value=72.5, idcenter=100, idpatient=3080, date=2005-09-22 00:00:00, amdcode=AMD004, meaning=PAS systolic, value=130.0, idcenter=100, idpatient=3080, date=2005-09-22 00:00:00, amdcode=AMD005, meaning=PAD diastolic, value=75.0, idcenter=100, idpatient=3080, date=2007-04-13 00:00:00, amdcode=AMD001, meaning=Height, value=167.0, idcenter=100, idpatient=3080, date=2007-04-13 00:00:00, amdcode=AMD002, meaning=Weight, value=80.0, idcenter=100, idpatient=3080, date=2007-04-13 00:00:00, amdcode=AMD004, meaning=PAS systolic, value=120.0, idcenter=100, idpatient=3080, date=2007-04-13 00:00:00, amdcode=AMD005, meaning=PAD diastolic, value=60.0, idcenter=100, idpatient=3080, date=2007-04-17 00:00:00, amdcode=AMD109, meaning=GT range, value=17.0, idcenter=100, idpatient=3080, date=2007-04-17 00:00:00, amdcode=AMD015, meaning=GOT, value=21.0, idcenter=100, idpatient=3080, date=2007-04-17 00:00:00, amdcode=AMD012, meaning=HDL cholesterol, value=49.0, idcenter=100, idpatient=3080, date=2007-04-17 00:00:00, amdcode=AMD016, meaning=GPT, value=16.0, idcenter=100, idpatient=3080, date=2007-04-17 00:00:00, amdcode=AMD010, meaning=Total cholesterol, value=161.0, idcenter=100, idpatient=3080, date=2007-04-17 00:00:00, amdcode=AMD009, meaning=Creatininemia, value=1.1, idcenter=100, idpatient=3080, date=2007-04-17 00:00:00, amdcode=AMD011, meaning=Triglycerides, value=123.0, idcenter=100, idpatient=3080, date=2007-04-17 00:00:00, amdcode=AMD001, meaning=Height, value=167.0, idcenter=100, idpatient=3080, date=2007-09-12 00:00:00, amdcode=AMD009, meaning=Creatininemia, value=5.19, idcenter=100, idpatient=3080, date=2007-09-12 00:00:00, amdcode=AMD008, meaning=HbA1c, value=7.2, idcenter=100, idpatient=3080, date=2007-09-12 00:00:00, amdcode=AMD005, meaning=PAD diastolic, value=70.0, idcenter=100, idpatient=3080, date=2007-09-12 00:00:00, amdcode=AMD111, meaning=Microalbuminuria, value=4.1, idcenter=100, idpatient=3080, date=2007-09-12 00:00:00, amdcode=AMD002, meaning=Weight, value=77.9, idcenter=100, idpatient=3080, date=2007-09-12 00:00:00, amdcode=AMD001, meaning=Height, value=167.0, idcenter=100, idpatient=3080, date=2007-09-12 00:00:00, amdcode=AMD004, meaning=PAS systolic, value=130.0, idcenter=100, idpatient=3080, date=2008-04-03 00:00:00, amdcode=AMD001, meaning=Height, value=167.0, idcenter=100, idpatient=3080, date=2008-04-03 00:00:00, amdcode=AMD002, meaning=Weight, value=82.2, idcenter=100, idpatient=3080, date=2008-04-03 00:00:00, amdcode=AMD004, meaning=PAS systolic, value=105.0, idcenter=100, idpatient=3080, date=2008-04-03 00:00:00, amdcode=AMD005, meaning=PAD diastolic, value=70.0, idcenter=100, idpatient=3080, date=2008-04-03 00:00:00, amdcode=AMD008, meaning=HbA1c, value=7.3, idcenter=100, idpatient=3080, date=2008-04-03 00:00:00, amdcode=AMD010, meaning=Total cholesterol, value=158.0, idcenter=100, idpatient=3080, date=2008-04-03 00:00:00, amdcode=AMD011, meaning=Triglycerides, value=78.0, idcenter=100, idpatient=3080, date=2008-04-03 00:00:00, amdcode=AMD012, meaning=HDL cholesterol, value=50.0, idcenter=100, idpatient=3080, date=2009-03-10 00:00:00, amdcode=AMD016, meaning=GPT, value=17.0, idcenter=100, idpatient=3080, date=2009-03-10 00:00:00, amdcode=AMD109, meaning=GT range, value=11.0, idcenter=100, idpatient=3080, date=2009-03-10 00:00:00, amdcode=AMD014, meaning=Uricemia, value=4.5, idcenter=100, idpatient=3080, date=2009-03-10 00:00:00, amdcode=AMD015, meaning=GOT, value=16.0, idcenter=100, idpatient=3080, date=2009-03-10 00:00:00, amdcode=AMD008, meaning=HbA1c, value=7.7, idcenter=100, idpatient=3080, date=2009-03-10 00:00:00, amdcode=AMD009, meaning=Creatininemia, value=1.2, idcenter=100, idpatient=3080, date=2009-03-10 00:00:00, amdcode=AMD007, meaning=Fasting blood sugar, value=187.0, idcenter=100, idpatient=3080, date=2009-03-10 00:00:00, amdcode=AMD001, meaning=Height, value=167.0, idcenter=100, idpatient=3080, date=2009-03-20 00:00:00, amdcode=AMD001, meaning=Height, value=167.0, idcenter=100, idpatient=3080, date=2009-03-20 00:00:00, amdcode=AMD002, meaning=Weight, value=78.0, idcenter=100, idpatient=3080, date=2009-03-20 00:00:00, amdcode=AMD004, meaning=PAS systolic, value=130.0, idcenter=100, idpatient=3080, date=2009-03-20 00:00:00, amdcode=AMD005, meaning=PAD diastolic, value=70.0, idcenter=100, idpatient=3080, date=2010-03-19 00:00:00, amdcode=AMD004, meaning=PAS systolic, value=140.0, idcenter=100, idpatient=3080, date=2010-03-19 00:00:00, amdcode=AMD005, meaning=PAD diastolic, value=70.0, idcenter=100, idpatient=3080, date=2010-03-19 00:00:00, amdcode=AMD001, meaning=Height, value=167.0, idcenter=100, idpatient=3080, date=2010-03-19 00:00:00, amdcode=AMD002, meaning=Weight, value=79.5, idcenter=100, idpatient=3080, date=2011-01-19 00:00:00, amdcode=AMD001, meaning=Height, value=167.0, idcenter=100, idpatient=3080, date=2011-01-19 00:00:00, amdcode=AMD007, meaning=Fasting blood sugar, value=175.0, idcenter=100, idpatient=3080, date=2011-01-19 00:00:00, amdcode=AMD009, meaning=Creatininemia, value=1.1, idcenter=100, idpatient=3080, date=2011-01-19 00:00:00, amdcode=AMD010, meaning=Total cholesterol, value=165.0, idcenter=100, idpatient=3080, date=2011-01-19 00:00:00, amdcode=AMD011, meaning=Triglycerides, value=111.0, idcenter=100, idpatient=3080, date=2011-01-19 00:00:00, amdcode=AMD012, meaning=HDL cholesterol, value=54.0, idcenter=100, idpatient=3080, date=2011-01-19 00:00:00, amdcode=AMD014, meaning=Uricemia, value=4.9, idcenter=100, idpatient=3080, date=2011-01-19 00:00:00, amdcode=AMD109, meaning=GT range, value=18.0, idcenter=100, idpatient=3080, date=2011-01-19 00:00:00, amdcode=AMD111, meaning=Microalbuminuria, value=2.2, idcenter=100, idpatient=3080, date=2011-02-07 00:00:00, amdcode=AMD008, meaning=HbA1c, value=7.8, idcenter=100, idpatient=3080, date=2011-02-07 00:00:00, amdcode=AMD005, meaning=PAD diastolic, value=70.0, idcenter=100, idpatient=3080, date=2011-02-07 00:00:00, amdcode=AMD001, meaning=Height, value=167.0, idcenter=100, idpatient=3080, date=2011-02-07 00:00:00, amdcode=AMD002, meaning=Weight, value=79.8, idcenter=100, idpatient=3080, date=2011-02-07 00:00:00, amdcode=AMD004, meaning=PAS systolic, value=140.0, idcenter=100, idpatient=3080, date=2012-12-29 00:00:00, amdcode=AMD109, meaning=GT range, value=19.0, idcenter=100, idpatient=3080, date=2012-12-29 00:00:00, amdcode=AMD018, meaning=Alkaline phosphatase, value=45.0, idcenter=100, idpatient=3080, date=2012-12-29 00:00:00, amdcode=AMD016, meaning=GPT, value=14.0, idcenter=100, idpatient=3080, date=2012-12-29 00:00:00, amdcode=AMD015, meaning=GOT, value=18.0, idcenter=100, idpatient=3080, date=2012-12-29 00:00:00, amdcode=AMD014, meaning=Uricemia, value=4.5, idcenter=100, idpatient=3080, date=2012-12-29 00:00:00, amdcode=AMD011, meaning=Triglycerides, value=104.0, idcenter=100, idpatient=3080, date=2012-12-29 00:00:00, amdcode=AMD012, meaning=HDL cholesterol, value=50.0, idcenter=100, idpatient=3080, date=2012-12-29 00:00:00, amdcode=AMD009, meaning=Creatininemia, value=1.08, idcenter=100, idpatient=3080, date=2012-12-29 00:00:00, amdcode=AMD005, meaning=PAD diastolic, value=80.0, idcenter=100, idpatient=3080, date=2012-12-29 00:00:00, amdcode=AMD004, meaning=PAS systolic, value=140.0, idcenter=100, idpatient=3080, date=2012-12-29 00:00:00, amdcode=AMD002, meaning=Weight, value=77.0, idcenter=100, idpatient=3080, date=2012-12-29 00:00:00, amdcode=AMD001, meaning=Height, value=167.0, idcenter=100, idpatient=3080, date=2012-12-29 00:00:00, amdcode=AMD010, meaning=Total cholesterol, value=165.0, idcenter=100, idpatient=3080, date=2013-03-05 00:00:00, amdcode=AMD004, meaning=PAS systolic, value=80.0, idcenter=100, idpatient=3080, date=2013-03-05 00:00:00, amdcode=AMD001, meaning=Height, value=167.0, idcenter=100, idpatient=3080, date=2013-03-05 00:00:00, amdcode=AMD002, meaning=Weight, value=77.0, idcenter=100, idpatient=3080, date=2013-03-05 00:00:00, amdcode=AMD007, meaning=Fasting blood sugar, value=121.0, exam parameter calculated: idcenter=100, idpatient=3080, date=2005-02-21 00:00:00, amdcode=AMD927, stitchcode=STITCH001, meaning=BMI, value=26.64, idcenter=100, idpatient=3080, date=2005-02-21 00:00:00, amdcode=AMD927, stitchcode=STITCH001, meaning=BMI, value=26.64, idcenter=100, idpatient=3080, date=2005-09-22 00:00:00, amdcode=AMD927, stitchcode=STITCH001, meaning=BMI, value=26.0, idcenter=100, idpatient=3080, date=2005-09-22 00:00:00, amdcode=AMD927, stitchcode=STITCH001, meaning=BMI, value=26.0, idcenter=100, idpatient=3080, date=2007-04-13 00:00:00, amdcode=AMD927, stitchcode=STITCH001, meaning=BMI, value=28.69, idcenter=100, idpatient=3080, date=2007-04-13 00:00:00, amdcode=AMD927, stitchcode=STITCH001, meaning=BMI, value=28.69, idcenter=100, idpatient=3080, date=2007-04-17 00:00:00, amdcode=[UNK], stitchcode=STITCH003, meaning=[UNK], value=112.0, idcenter=100, idpatient=3080, date=2007-04-17 00:00:00, amdcode=[UNK], stitchcode=STITCH004, meaning=[UNK], value=65.98807285582433, idcenter=100, idpatient=3080, date=2007-04-17 00:00:00, amdcode=AMD013, stitchcode=STITCH002, meaning=LDL cholesterol, value=87.4, idcenter=100, idpatient=3080, date=2007-04-17 00:00:00, amdcode=AMD304, stitchcode=STITCH005, meaning=GFR CKDEpi, value=67.1817315771284, idcenter=100, idpatient=3080, date=2007-09-12 00:00:00, amdcode=AMD927, stitchcode=STITCH001, meaning=BMI, value=27.93, idcenter=100, idpatient=3080, date=2007-09-12 00:00:00, amdcode=[UNK], stitchcode=STITCH004, meaning=[UNK], value=11.013604400752968, idcenter=100, idpatient=3080, date=2007-09-12 00:00:00, amdcode=AMD927, stitchcode=STITCH001, meaning=BMI, value=27.93, idcenter=100, idpatient=3080, date=2007-09-12 00:00:00, amdcode=AMD304, stitchcode=STITCH005, meaning=GFR CKDEpi, value=10.295741123118066, idcenter=100, idpatient=3080, date=2008-04-03 00:00:00, amdcode=AMD927, stitchcode=STITCH001, meaning=BMI, value=29.47, idcenter=100, idpatient=3080, date=2008-04-03 00:00:00, amdcode=AMD013, stitchcode=STITCH002, meaning=LDL cholesterol, value=92.4, idcenter=100, idpatient=3080, date=2008-04-03 00:00:00, amdcode=[UNK], stitchcode=STITCH003, meaning=[UNK], value=108.0, idcenter=100, idpatient=3080, date=2008-04-03 00:00:00, amdcode=AMD927, stitchcode=STITCH001, meaning=BMI, value=29.47, idcenter=100, idpatient=3080, date=2009-03-10 00:00:00, amdcode=AMD304, stitchcode=STITCH005, meaning=GFR CKDEpi, value=59.62979554402053, idcenter=100, idpatient=3080, date=2009-03-10 00:00:00, amdcode=[UNK], stitchcode=STITCH004, meaning=[UNK], value=59.34830912920275, idcenter=100, idpatient=3080, date=2009-03-20 00:00:00, amdcode=AMD927, stitchcode=STITCH001, meaning=BMI, value=27.97, idcenter=100, idpatient=3080, date=2009-03-20 00:00:00, amdcode=AMD927, stitchcode=STITCH001, meaning=BMI, value=27.97, idcenter=100, idpatient=3080, date=2010-03-19 00:00:00, amdcode=AMD927, stitchcode=STITCH001, meaning=BMI, value=28.51, idcenter=100, idpatient=3080, date=2010-03-19 00:00:00, amdcode=AMD927, stitchcode=STITCH001, meaning=BMI, value=28.51, idcenter=100, idpatient=3080, date=2011-01-19 00:00:00, amdcode=[UNK], stitchcode=STITCH004, meaning=[UNK], value=65.25795401466708, idcenter=100, idpatient=3080, date=2011-01-19 00:00:00, amdcode=[UNK], stitchcode=STITCH003, meaning=[UNK], value=111.0, idcenter=100, idpatient=3080, date=2011-01-19 00:00:00, amdcode=AMD013, stitchcode=STITCH002, meaning=LDL cholesterol, value=88.8, idcenter=100, idpatient=3080, date=2011-01-19 00:00:00, amdcode=AMD304, stitchcode=STITCH005, meaning=GFR CKDEpi, value=65.32030251002008, idcenter=100, idpatient=3080, date=2011-02-07 00:00:00, amdcode=AMD927, stitchcode=STITCH001, meaning=BMI, value=28.61, idcenter=100, idpatient=3080, date=2011-02-07 00:00:00, amdcode=AMD927, stitchcode=STITCH001, meaning=BMI, value=28.61, idcenter=100, idpatient=3080, date=2012-12-29 00:00:00, amdcode=AMD304, stitchcode=STITCH005, meaning=GFR CKDEpi, value=66.31806893415525, idcenter=100, idpatient=3080, date=2012-12-29 00:00:00, amdcode=AMD927, stitchcode=STITCH001, meaning=BMI, value=27.61, idcenter=100, idpatient=3080, date=2012-12-29 00:00:00, amdcode=AMD927, stitchcode=STITCH001, meaning=BMI, value=27.61, idcenter=100, idpatient=3080, date=2012-12-29 00:00:00, amdcode=[UNK], stitchcode=STITCH004, meaning=[UNK], value=66.47554026082096, idcenter=100, idpatient=3080, date=2012-12-29 00:00:00, amdcode=[UNK], stitchcode=STITCH003, meaning=[UNK], value=115.0, idcenter=100, idpatient=3080, date=2012-12-29 00:00:00, amdcode=AMD013, stitchcode=STITCH002, meaning=LDL cholesterol, value=94.2, idcenter=100, idpatient=3080, date=2013-03-05 00:00:00, amdcode=AMD927, stitchcode=STITCH001, meaning=BMI, value=27.61, idcenter=100, idpatient=3080, date=2013-03-05 00:00:00, amdcode=AMD927, stitchcode=STITCH001, meaning=BMI, value=27.61, exam strumental: idcenter=100, idpatient=3080, date=2005-06-30 00:00:00, amdcode=AMD050, meaning=Eye examination, value=N, idcenter=100, idpatient=3080, date=2011-02-07 00:00:00, amdcode=AMD050, meaning=Eye examination, value=N, idcenter=100, idpatient=3080, date=2013-03-05 00:00:00, amdcode=AMD050, meaning=Eye examination, value=N, prescription diabete drugs: idcenter=100, idpatient=3080, date=2005-02-21 00:00:00, atccode=A10BD02, meaning=metformin and sulfonylureas, quantity=0.5, idmeal=5, drugdescription=GLIBOMET*40CPR RIV 400MG+2,5MG, idcenter=100, idpatient=3080, date=2005-09-22 00:00:00, atccode=A10BD02, meaning=metformin and sulfonylureas, quantity=0.5, idmeal=5, drugdescription=GLIBOMET*40CPR RIV 400MG+2,5MG, idcenter=100, idpatient=3080, date=2007-04-13 00:00:00, atccode=A10BD02, meaning=metformin and sulfonylureas, quantity=0.5, idmeal=5, drugdescription=GLIBOMET*40CPR RIV 400MG+2,5MG, idcenter=100, idpatient=3080, date=2008-04-03 00:00:00, atccode=A10BD02, meaning=metformin and sulfonylureas, quantity=0.5, idmeal=5, drugdescription=GLIBOMET*40CPR RIV 400MG+2,5MG, idcenter=100, idpatient=3080, date=2009-03-20 00:00:00, atccode=A10BD02, meaning=metformin and sulfonylureas, quantity=0.5, idmeal=1, drugdescription=GLIBOMET*40CPR RIV 400MG+2,5MG, idcenter=100, idpatient=3080, date=2009-03-20 00:00:00, atccode=A10BD02, meaning=metformin and sulfonylureas, quantity=1.0, idmeal=5, drugdescription=GLIBOMET*40CPR RIV 400MG+2,5MG, idcenter=100, idpatient=3080, date=2009-03-25 00:00:00, atccode=A10BD02, meaning=metformin and sulfonylureas, quantity=0.5, idmeal=1, drugdescription=GLIBOMET*40CPR RIV 400MG+2,5MG, idcenter=100, idpatient=3080, date=2009-03-25 00:00:00, atccode=A10BD02, meaning=metformin and sulfonylureas, quantity=1.0, idmeal=5, drugdescription=GLIBOMET*40CPR RIV 400MG+2,5MG, idcenter=100, idpatient=3080, date=2010-03-19 00:00:00, atccode=A10BD02, meaning=metformin and sulfonylureas, quantity=0.5, idmeal=1, drugdescription=GLIBOMET*40CPR RIV 400MG+2,5MG, idcenter=100, idpatient=3080, date=2010-03-19 00:00:00, atccode=A10BD02, meaning=metformin and sulfonylureas, quantity=0.5, idmeal=3, drugdescription=GLIBOMET*40CPR RIV 400MG+2,5MG, idcenter=100, idpatient=3080, date=2010-03-19 00:00:00, atccode=A10BD02, meaning=metformin and sulfonylureas, quantity=0.5, idmeal=5, drugdescription=GLIBOMET*40CPR RIV 400MG+2,5MG, idcenter=100, idpatient=3080, date=2011-02-07 00:00:00, atccode=A10BD02, meaning=metformin and sulfonylureas, quantity=0.5, idmeal=5, drugdescription=GLIBOMET*40CPR RIV 400MG+2,5MG, idcenter=100, idpatient=3080, date=2011-02-07 00:00:00, atccode=A10BD02, meaning=metformin and sulfonylureas, quantity=0.5, idmeal=1, drugdescription=GLIBOMET*40CPR RIV 400MG+2,5MG, idcenter=100, idpatient=3080, date=2011-02-07 00:00:00, atccode=A10BD02, meaning=metformin and sulfonylureas, quantity=0.5, idmeal=3, drugdescription=GLIBOMET*40CPR RIV 400MG+2,5MG, idcenter=100, idpatient=3080, date=2011-02-18 00:00:00, atccode=A10BB09, meaning=gliclazide, quantity=1.0, idmeal=3, drugdescription=DIAMICRON*40CPR 80mg, idcenter=100, idpatient=3080, date=2011-02-18 00:00:00, atccode=A10BD02, meaning=metformin and sulfonylureas, quantity=1.0, idmeal=1, drugdescription=GLIBOMET*40CPR RIV 400MG+2,5MG, idcenter=100, idpatient=3080, date=2011-02-18 00:00:00, atccode=A10BD02, meaning=metformin and sulfonylureas, quantity=1.0, idmeal=5, drugdescription=GLIBOMET*40CPR RIV 400MG+2,5MG, idcenter=100, idpatient=3080, date=2013-03-05 00:00:00, atccode=A10BA02, meaning=metformin, quantity=1.0, idmeal=1, drugdescription=METFORMINA CLORIDRATO*40CPR RIV 850MG, idcenter=100, idpatient=3080, date=2013-03-05 00:00:00, atccode=A10BA02, meaning=metformin, quantity=1.0, idmeal=5, drugdescription=METFORMINA CLORIDRATO*40CPR RIV 850MG, idcenter=100, idpatient=3080, date=2013-03-05 00:00:00, atccode=A10BB09, meaning=gliclazide, quantity=1.0, idmeal=3, drugdescription=GLICLAZIDE*60CPR R.M. 30MG, idcenter=100, idpatient=3080, date=2015-09-08 00:00:00, atccode=A10BA02, meaning=metformin, quantity=1.0, idmeal=5, drugdescription=METFORMINA CLORIDRATO*40CPR RIV 850MG, idcenter=100, idpatient=3080, date=2015-09-08 00:00:00, atccode=A10BA02, meaning=metformin, quantity=1.0, idmeal=1, drugdescription=METFORMINA CLORIDRATO*40CPR RIV 850MG, idcenter=100, idpatient=3080, date=2015-09-08 00:00:00, atccode=A10BB09, meaning=gliclazide, quantity=1.0, idmeal=3, drugdescription=GLICLAZIDE*60CPR R.M. 30MG, prescription diabete not drugs: prescription not diabete: idcenter=100, idpatient=3080, date=2005-02-21 00:00:00, amdcode=AMD121, meaning=Antihypertensive drugs, value=C07AB03, idcenter=100, idpatient=3080, date=2005-02-21 00:00:00, amdcode=AMD124, meaning=Lipid-lowering drugs, value=C10AA01, idcenter=100, idpatient=3080, date=2005-02-21 00:00:00, amdcode=AMD131, meaning=Antiplatelet drugs, value=B01AC06, idcenter=100, idpatient=3080, date=2005-09-22 00:00:00, amdcode=AMD121, meaning=Antihypertensive drugs, value=C07AB03, idcenter=100, idpatient=3080, date=2005-09-22 00:00:00, amdcode=AMD124, meaning=Lipid-lowering drugs, value=C10AA01, idcenter=100, idpatient=3080, date=2005-09-22 00:00:00, amdcode=AMD131, meaning=Antiplatelet drugs, value=B01AC06, idcenter=100, idpatient=3080, date=2007-04-13 00:00:00, amdcode=AMD121, meaning=Antihypertensive drugs, value=C07AB03, idcenter=100, idpatient=3080, date=2007-04-13 00:00:00, amdcode=AMD124, meaning=Lipid-lowering drugs, value=C10AA01, idcenter=100, idpatient=3080, date=2007-04-13 00:00:00, amdcode=AMD131, meaning=Antiplatelet drugs, value=B01AC06, idcenter=100, idpatient=3080, date=2008-04-03 00:00:00, amdcode=AMD121, meaning=Antihypertensive drugs, value=C07AB03, idcenter=100, idpatient=3080, date=2008-04-03 00:00:00, amdcode=AMD124, meaning=Lipid-lowering drugs, value=C10AA01, idcenter=100, idpatient=3080, date=2008-04-03 00:00:00, amdcode=AMD131, meaning=Antiplatelet drugs, value=B01AC06, idcenter=100, idpatient=3080, date=2009-03-20 00:00:00, amdcode=AMD121, meaning=Antihypertensive drugs, value=C07AB03, idcenter=100, idpatient=3080, date=2009-03-20 00:00:00, amdcode=AMD124, meaning=Lipid-lowering drugs, value=C10AA01, idcenter=100, idpatient=3080, date=2009-03-20 00:00:00, amdcode=AMD131, meaning=Antiplatelet drugs, value=B01AC06, idcenter=100, idpatient=3080, date=2009-03-25 00:00:00, amdcode=AMD131, meaning=Antiplatelet drugs, value=B01AC06, idcenter=100, idpatient=3080, date=2009-03-25 00:00:00, amdcode=AMD124, meaning=Lipid-lowering drugs, value=C10AA01, idcenter=100, idpatient=3080, date=2009-03-25 00:00:00, amdcode=AMD121, meaning=Antihypertensive drugs, value=C07AB03, idcenter=100, idpatient=3080, date=2010-03-19 00:00:00, amdcode=AMD121, meaning=Antihypertensive drugs, value=C07AB03, idcenter=100, idpatient=3080, date=2010-03-19 00:00:00, amdcode=AMD124, meaning=Lipid-lowering drugs, value=C10AA01, idcenter=100, idpatient=3080, date=2010-03-19 00:00:00, amdcode=AMD131, meaning=Antiplatelet drugs, value=B01AC06, idcenter=100, idpatient=3080, date=2011-02-07 00:00:00, amdcode=AMD121, meaning=Antihypertensive drugs, value=C07AB03, idcenter=100, idpatient=3080, date=2011-02-07 00:00:00, amdcode=AMD124, meaning=Lipid-lowering drugs, value=C10AA01, idcenter=100, idpatient=3080, date=2011-02-07 00:00:00, amdcode=AMD131, meaning=Antiplatelet drugs, value=B01AC06, idcenter=100, idpatient=3080, date=2011-02-18 00:00:00, amdcode=AMD131, meaning=Antiplatelet drugs, value=B01AC06, idcenter=100, idpatient=3080, date=2011-02-18 00:00:00, amdcode=AMD124, meaning=Lipid-lowering drugs, value=C10AA01, idcenter=100, idpatient=3080, date=2011-02-18 00:00:00, amdcode=AMD121, meaning=Antihypertensive drugs, value=C07AB03, idcenter=100, idpatient=3080, date=2013-03-05 00:00:00, amdcode=AMD121, meaning=Antihypertensive drugs, value=C07AB03, idcenter=100, idpatient=3080, date=2013-03-05 00:00:00, amdcode=AMD124, meaning=Lipid-lowering drugs, value=C10AA01, idcenter=100, idpatient=3080, date=2013-03-05 00:00:00, amdcode=AMD131, meaning=Antiplatelet drugs, value=B01AC06, idcenter=100, idpatient=3080, date=2015-09-08 00:00:00, amdcode=AMD121, meaning=Antihypertensive drugs, value=C07AB03, idcenter=100, idpatient=3080, date=2015-09-08 00:00:00, amdcode=AMD121, meaning=Antihypertensive drugs, value=C09AA05, idcenter=100, idpatient=3080, date=2015-09-08 00:00:00, amdcode=AMD124, meaning=Lipid-lowering drugs, value=C10AA01, idcenter=100, idpatient=3080, date=2015-09-08 00:00:00, amdcode=AMD131, meaning=Antiplatelet drugs, value=B01AC06,', 1)]\n"
     ]
    }
   ],
   "source": [
    "with open(\"../../dataset.pkl\", \"rb\") as f:\n",
    "    tuple_dataset = pickle.load(f)\n",
    "\n",
    "print(\"loaded dataset\")\n",
    "print(\"dataset: \", len(tuple_dataset))\n",
    "print(tuple_dataset[:1])"
   ]
  },
  {
   "cell_type": "code",
   "execution_count": null,
   "metadata": {},
   "outputs": [],
   "source": [
    "# class PubMedBERTDataset(Dataset):\n",
    "#     def __init__(self, data):\n",
    "#         # here data is a list of tuples,\n",
    "#         # each containing the patient history string and their label\n",
    "#         self.data = data\n",
    "\n",
    "#     def __len__(self):\n",
    "#         return len(self.data)\n",
    "\n",
    "#     def __getitem__(self, idx):\n",
    "#         patient_history = self.data[idx][0]\n",
    "#         label = self.data[idx][1]\n",
    "#         return patient_history, label"
   ]
  },
  {
   "cell_type": "code",
   "execution_count": 4,
   "metadata": {},
   "outputs": [],
   "source": [
    "def convert_to_huggingfaceDataset(tuple_dataset):\n",
    "    # here data is a list of tuples,\n",
    "    # each containing the patient history string and their label\n",
    "    # we need to convert it to a hugginface dataset\n",
    "    dict_list = [{\"label\": data[1], \"text\": data[0]} for data in tuple_dataset]\n",
    "    dataset = datasets.Dataset.from_list(dict_list)\n",
    "    return dataset"
   ]
  },
  {
   "cell_type": "code",
   "execution_count": 5,
   "metadata": {},
   "outputs": [],
   "source": [
    "# max_len = [0] * 100\n",
    "# index = [0] * 100\n",
    "\n",
    "# # Save the 100 most length sentence and their indexes\n",
    "# for i, (ph, l) in enumerate(dataset):\n",
    "#     # Count the number of words in the ph variable\n",
    "#     ph_len = len(ph.replace(' ', '=').split('='))\n",
    "#     for j, x in enumerate(max_len):\n",
    "#         if ph_len > x:\n",
    "#             max_len.insert(j, ph_len)\n",
    "#             index.insert(j, i)\n",
    "#             max_len.pop()\n",
    "#             index.pop()\n",
    "#             break\n",
    "\n",
    "# print(max_len)\n",
    "# print(index)"
   ]
  },
  {
   "cell_type": "code",
   "execution_count": 6,
   "metadata": {},
   "outputs": [],
   "source": [
    "class PubMedBERTDataModule(LightningDataModule):\n",
    "    def __init__(\n",
    "        self,\n",
    "        tuple_dataset,\n",
    "        model_name_with_path: str,\n",
    "        max_seq_length: int = 512,  # 512 is the max length of BERT and PubMedBERT but I need 32768\n",
    "        train_batch_size: int = 4,\n",
    "        eval_batch_size: int = 4,\n",
    "        **kwargs,\n",
    "    ):\n",
    "        super().__init__()\n",
    "        self.model_name_with_path = model_name_with_path\n",
    "        self.max_seq_length = max_seq_length\n",
    "        self.train_batch_size = train_batch_size\n",
    "        self.eval_batch_size = eval_batch_size\n",
    "        self.tokenizer = AutoTokenizer.from_pretrained(\n",
    "            self.model_name_with_path, use_fast=True\n",
    "        )\n",
    "\n",
    "    def setup(self, stage=None):\n",
    "        dataset = convert_to_huggingfaceDataset(tuple_dataset)\n",
    "        tokenized_dataset = dataset.map(\n",
    "            self.convert_to_features,\n",
    "            batched=True,\n",
    "            remove_columns=[\"text\", \"label\"],\n",
    "        )\n",
    "        tokenized_dataset.set_format(type=\"torch\")\n",
    "\n",
    "        # split dataset into train and validation sampling randomly\n",
    "        # use 20% of training data for validation\n",
    "        train_set_size = int(len(tokenized_dataset) * 0.8)\n",
    "        valid_set_size = len(tokenized_dataset) - train_set_size\n",
    "\n",
    "        # split the dataset randomly into two\n",
    "        self.train_data, self.valid_data = torch.utils.data.random_split(\n",
    "            tokenized_dataset, [train_set_size, valid_set_size], generator=GEN_SEED\n",
    "        )\n",
    "\n",
    "    def prepare_data(self):\n",
    "        AutoTokenizer.from_pretrained(\n",
    "            self.model_name_with_path,\n",
    "            use_fast=True,\n",
    "        )\n",
    "\n",
    "    def train_dataloader(self):\n",
    "        return DataLoader(\n",
    "            self.train_data, batch_size=self.train_batch_size, shuffle=True\n",
    "        )\n",
    "\n",
    "    def val_dataloader(self):\n",
    "        return DataLoader(\n",
    "            self.valid_data, batch_size=self.eval_batch_size, shuffle=False\n",
    "        )\n",
    "\n",
    "    def test_dataloader(self):\n",
    "        # placeholder\n",
    "        return DataLoader(\n",
    "            self.valid_data, batch_size=self.eval_batch_size, shuffle=False\n",
    "        )\n",
    "\n",
    "    def convert_to_features(self, example_batch, indices=None):\n",
    "        # Tokenize the patient history\n",
    "        features = self.tokenizer(\n",
    "            text=example_batch[\"text\"],\n",
    "            max_length=self.max_seq_length,\n",
    "            padding=\"longest\",\n",
    "            truncation=True,\n",
    "            return_tensors=\"pt\",\n",
    "        )\n",
    "        # Rename label to labels to make it easier to pass to model forward\n",
    "        features[\"labels\"] = example_batch[\"label\"]\n",
    "\n",
    "        return features"
   ]
  },
  {
   "cell_type": "code",
   "execution_count": 7,
   "metadata": {},
   "outputs": [],
   "source": [
    "# dm = PubMedBERTDataModule(tuple_dataset, MODEL_NAME)\n",
    "# dm.prepare_data()\n",
    "# dm.setup(\"fit\")\n",
    "# next(iter(dm.train_dataloader()))"
   ]
  },
  {
   "cell_type": "code",
   "execution_count": 8,
   "metadata": {},
   "outputs": [],
   "source": [
    "class PubMedBERTTransformer(LightningModule):\n",
    "    def __init__(\n",
    "        self,\n",
    "        model_name_or_path: str,\n",
    "        num_labels: int = 2,\n",
    "        learning_rate: float = 2e-5,\n",
    "        adam_epsilon: float = 1e-8,\n",
    "        warmup_steps: int = 0,\n",
    "        weight_decay: float = 0.0,\n",
    "        train_batch_size: int = 16,\n",
    "        eval_batch_size: int = 16,\n",
    "        eval_splits: Optional[list] = None,\n",
    "        **kwargs,\n",
    "    ):\n",
    "        super().__init__()\n",
    "\n",
    "        self.save_hyperparameters()\n",
    "\n",
    "        self.config = AutoConfig.from_pretrained(\n",
    "            model_name_or_path, num_labels=num_labels\n",
    "        )\n",
    "        self.model = AutoModelForSequenceClassification.from_pretrained(\n",
    "            model_name_or_path, config=self.config\n",
    "        )\n",
    "        self.metric = BinaryAccuracy()\n",
    "        self.validation_step_outputs = []\n",
    "\n",
    "    def forward(self, **inputs):\n",
    "        return self.model(\n",
    "            **inputs\n",
    "        )\n",
    "    \n",
    "    def step(self, batch):\n",
    "        outputs = self(**batch)\n",
    "        loss, logits = outputs[:2]\n",
    "        if self.hparams.num_labels > 1:\n",
    "            preds = logits.argmax(axis=1)\n",
    "        elif self.hparams.num_labels == 1:\n",
    "            preds = logits.squeeze()\n",
    "        labels = batch[\"labels\"]\n",
    "        return {\"loss\": loss, \"logits\": logits, \"preds\": preds, \"labels\": labels}\n",
    "\n",
    "    def training_step(self, batch, batch_idx):\n",
    "        outputs = self.step(batch)\n",
    "        value = self.metric(outputs[\"preds\"], outputs[\"labels\"])\n",
    "        self.log(\"train_acc_step\", value, on_epoch=True)\n",
    "        self.log(\"train_loss\", outputs[\"loss\"], prog_bar=True)\n",
    "        return outputs[\"loss\"]\n",
    "\n",
    "    def validation_step(self, batch, batch_idx, dataloader_idx=0):\n",
    "        outputs = self.step(batch)\n",
    "        # self.validation_step_outputs.append(preds)\n",
    "        value = self.metric(outputs[\"preds\"], outputs[\"labels\"])\n",
    "        self.log(\"train_acc_step\", value, on_epoch=True)\n",
    "        return {\"loss\": outputs[\"loss\"], \"preds\": outputs[\"preds\"], \"labels\": outputs[\"labels\"]}\n",
    "\n",
    "    # def on_validation_epoch_end(self):\n",
    "    # print(\"on_validation_epoch_end\")\n",
    "    # print(self.validation_step_outputs)\n",
    "    # preds = (\n",
    "    #     torch.cat([x[\"preds\"] for x in self.validation_step_outputs])\n",
    "    #     .detach()\n",
    "    #     .cpu()\n",
    "    #     .numpy()\n",
    "    # )\n",
    "    # labels = (\n",
    "    #     torch.cat([x[\"labels\"] for x in self.validation_step_outputs])\n",
    "    #     .detach()\n",
    "    #     .cpu()\n",
    "    #     .numpy()\n",
    "    # )\n",
    "    # loss = torch.stack([x[\"loss\"] for x in self.validation_step_outputs]).mean()\n",
    "    # self.log(\"val_loss\", loss, prog_bar=True)\n",
    "    # self.log_dict(\n",
    "    #     self.metric.compute(predictions=preds, references=labels), prog_bar=True\n",
    "    # )\n",
    "    # self.validation_step_outputs.clear()  # free memory\n",
    "\n",
    "    def configure_optimizers(self):\n",
    "        \"\"\"Prepare optimizer and schedule (linear warmup and decay)\"\"\"\n",
    "        model = self.model\n",
    "        no_decay = [\"bias\", \"LayerNorm.weight\"]\n",
    "        optimizer_grouped_parameters = [\n",
    "            {\n",
    "                \"params\": [\n",
    "                    p\n",
    "                    for n, p in model.named_parameters()\n",
    "                    if not any(nd in n for nd in no_decay)\n",
    "                ],\n",
    "                \"weight_decay\": self.hparams.weight_decay,\n",
    "            },\n",
    "            {\n",
    "                \"params\": [\n",
    "                    p\n",
    "                    for n, p in model.named_parameters()\n",
    "                    if any(nd in n for nd in no_decay)\n",
    "                ],\n",
    "                \"weight_decay\": 0.0,\n",
    "            },\n",
    "        ]\n",
    "        optimizer = torch.optim.Adam(\n",
    "            optimizer_grouped_parameters,\n",
    "            lr=self.hparams.learning_rate,\n",
    "            eps=self.hparams.adam_epsilon,\n",
    "        )\n",
    "\n",
    "        scheduler = get_linear_schedule_with_warmup(\n",
    "            optimizer,\n",
    "            num_warmup_steps=self.hparams.warmup_steps,\n",
    "            num_training_steps=self.trainer.estimated_stepping_batches,\n",
    "        )\n",
    "        scheduler = {\"scheduler\": scheduler, \"interval\": \"step\", \"frequency\": 1}\n",
    "        return [optimizer], [scheduler]"
   ]
  },
  {
   "cell_type": "code",
   "execution_count": 9,
   "metadata": {},
   "outputs": [
    {
     "name": "stderr",
     "output_type": "stream",
     "text": [
      "Parameter 'function'=<bound method PubMedBERTDataModule.convert_to_features of <__main__.PubMedBERTDataModule object at 0x7f7f597c0d10>> of the transform datasets.arrow_dataset.Dataset._map_single couldn't be hashed properly, a random hash was used instead. Make sure your transforms and parameters are serializable with pickle or dill for the dataset fingerprinting and caching to work. If you reuse this transform, the caching mechanism will consider it to be different from the previous calls and recompute everything. This warning is only showed once. Subsequent hashing failures won't be showed.\n",
      "Map: 100%|██████████| 150/150 [00:00<00:00, 187.21 examples/s]\n",
      "Some weights of BertForSequenceClassification were not initialized from the model checkpoint at microsoft/BiomedNLP-PubMedBERT-base-uncased-abstract-fulltext and are newly initialized: ['classifier.bias', 'classifier.weight']\n",
      "You should probably TRAIN this model on a down-stream task to be able to use it for predictions and inference.\n",
      "GPU available: True (cuda), used: True\n",
      "TPU available: False, using: 0 TPU cores\n",
      "IPU available: False, using: 0 IPUs\n",
      "HPU available: False, using: 0 HPUs\n",
      "/home/ant/miniconda3/envs/ml/lib/python3.11/site-packages/pytorch_lightning/trainer/connectors/logger_connector/logger_connector.py:67: UserWarning: Starting from v1.9.0, `tensorboardX` has been removed as a dependency of the `pytorch_lightning` package, due to potential conflicts with other packages in the ML ecosystem. For this reason, `logger=True` will use `CSVLogger` as the default logger, unless the `tensorboard` or `tensorboardX` packages are found. Please `pip install lightning[extra]` or one of them to enable TensorBoard support by default\n",
      "  warning_cache.warn(\n",
      "Map: 100%|██████████| 150/150 [00:00<00:00, 223.64 examples/s]\n",
      "LOCAL_RANK: 0 - CUDA_VISIBLE_DEVICES: [0]\n",
      "Loading `train_dataloader` to estimate number of stepping batches.\n",
      "/home/ant/miniconda3/envs/ml/lib/python3.11/site-packages/pytorch_lightning/trainer/connectors/data_connector.py:432: PossibleUserWarning: The dataloader, train_dataloader, does not have many workers which may be a bottleneck. Consider increasing the value of the `num_workers` argument` (try 12 which is the number of cpus on this machine) in the `DataLoader` init to improve performance.\n",
      "  rank_zero_warn(\n",
      "/home/ant/miniconda3/envs/ml/lib/python3.11/site-packages/pytorch_lightning/loops/fit_loop.py:280: PossibleUserWarning: The number of training batches (30) is smaller than the logging interval Trainer(log_every_n_steps=50). Set a lower value for log_every_n_steps if you want to see logs for the training epoch.\n",
      "  rank_zero_warn(\n",
      "\n",
      "  | Name   | Type                          | Params\n",
      "---------------------------------------------------------\n",
      "0 | model  | BertForSequenceClassification | 109 M \n",
      "1 | metric | BinaryAccuracy                | 0     \n",
      "---------------------------------------------------------\n",
      "109 M     Trainable params\n",
      "0         Non-trainable params\n",
      "109 M     Total params\n",
      "437.935   Total estimated model params size (MB)\n"
     ]
    },
    {
     "name": "stdout",
     "output_type": "stream",
     "text": [
      "Sanity Checking DataLoader 0:   0%|          | 0/2 [00:00<?, ?it/s]"
     ]
    },
    {
     "name": "stderr",
     "output_type": "stream",
     "text": [
      "/home/ant/miniconda3/envs/ml/lib/python3.11/site-packages/pytorch_lightning/trainer/connectors/data_connector.py:432: PossibleUserWarning: The dataloader, val_dataloader, does not have many workers which may be a bottleneck. Consider increasing the value of the `num_workers` argument` (try 12 which is the number of cpus on this machine) in the `DataLoader` init to improve performance.\n",
      "  rank_zero_warn(\n"
     ]
    },
    {
     "name": "stdout",
     "output_type": "stream",
     "text": [
      "Epoch 1: 100%|██████████| 30/30 [00:23<00:00,  1.29it/s, v_num=0, train_loss=0.0398]"
     ]
    },
    {
     "name": "stderr",
     "output_type": "stream",
     "text": [
      "`Trainer.fit` stopped: `max_epochs=2` reached.\n"
     ]
    },
    {
     "name": "stdout",
     "output_type": "stream",
     "text": [
      "Epoch 1: 100%|██████████| 30/30 [00:25<00:00,  1.18it/s, v_num=0, train_loss=0.0398]\n"
     ]
    }
   ],
   "source": [
    "dm = PubMedBERTDataModule(tuple_dataset, MODEL_NAME)\n",
    "dm.setup(\"fit\")\n",
    "# print(next(iter(dm.train_dataloader())))\n",
    "\n",
    "model = PubMedBERTTransformer(\n",
    "    model_name_or_path=MODEL_NAME,\n",
    ")\n",
    "\n",
    "trainer = Trainer(\n",
    "    max_epochs=2,\n",
    "    accelerator=\"auto\",\n",
    "    devices=\"auto\",\n",
    ")\n",
    "trainer.fit(model=model, datamodule=dm)"
   ]
  }
 ],
 "metadata": {
  "kernelspec": {
   "display_name": "ml",
   "language": "python",
   "name": "python3"
  },
  "language_info": {
   "codemirror_mode": {
    "name": "ipython",
    "version": 3
   },
   "file_extension": ".py",
   "mimetype": "text/x-python",
   "name": "python",
   "nbconvert_exporter": "python",
   "pygments_lexer": "ipython3",
   "version": "3.11.4"
  },
  "orig_nbformat": 4
 },
 "nbformat": 4,
 "nbformat_minor": 2
}
